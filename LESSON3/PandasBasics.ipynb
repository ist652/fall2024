{
 "cells": [
  {
   "cell_type": "markdown",
   "metadata": {},
   "source": [
    "# Now You Code In Class: \n",
    "## Tricks of The Pandas Masters Volume I\n",
    "\n",
    "We will try something a bit different for our Activity - A series of Pandas coding challenges!\n",
    "\n",
    "Datasets we will use:\n",
    "\n",
    "- https://raw.githubusercontent.com/mafudge/datasets/master/flights/sample-flights.csv\n",
    "- https://raw.githubusercontent.com/mafudge/datasets/master/orders/sample-orders.csv\n"
   ]
  },
  {
   "cell_type": "code",
   "execution_count": null,
   "metadata": {},
   "outputs": [],
   "source": [
    "import pandas as pd\n",
    "import numpy as np\n",
    "from IPython.display import display\n",
    "from ipywidgets import widgets, interact_manual\n",
    "\n",
    "pd.set_option('display.max_colwidth', None)"
   ]
  },
  {
   "cell_type": "markdown",
   "metadata": {},
   "source": [
    "## Reading a dataset into a dataframe.\n",
    "\n",
    "The following code loads the airline flights dataset into the variable `flights`"
   ]
  },
  {
   "cell_type": "code",
   "execution_count": null,
   "metadata": {},
   "outputs": [],
   "source": [
    "flights = pd.read_csv(\" https://raw.githubusercontent.com/mafudge/datasets/master/flights/sample-flights.csv\")\n",
    "flights.head()"
   ]
  },
  {
   "cell_type": "code",
   "execution_count": null,
   "metadata": {},
   "outputs": [],
   "source": [
    "# PROMPT 1 read orders data into variable called \"orders\" and display the first few rows\n"
   ]
  },
  {
   "cell_type": "markdown",
   "metadata": {},
   "source": [
    "## What does the data look like?\n",
    "\n",
    "This code uses `info()` to get information about the columns and datatypes of the dataframe.\n"
   ]
  },
  {
   "cell_type": "code",
   "execution_count": null,
   "metadata": {},
   "outputs": [],
   "source": [
    "flights.info()"
   ]
  },
  {
   "cell_type": "code",
   "execution_count": null,
   "metadata": {},
   "outputs": [],
   "source": [
    "# PROMPT 2 - get information for the \"orders\" dataframe\n",
    "# does every order have an email?\n"
   ]
  },
  {
   "cell_type": "markdown",
   "metadata": {},
   "source": [
    "## What are the different aircraft names?\n",
    "\n",
    "This code will use `value_counts()` to produce counts of the different aircraft names"
   ]
  },
  {
   "cell_type": "code",
   "execution_count": null,
   "metadata": {},
   "outputs": [],
   "source": [
    "flights[\"aircraft_type\"].value_counts()"
   ]
  },
  {
   "cell_type": "code",
   "execution_count": null,
   "metadata": {
    "tags": []
   },
   "outputs": [],
   "source": [
    "orders.columns"
   ]
  },
  {
   "cell_type": "code",
   "execution_count": null,
   "metadata": {
    "tags": []
   },
   "outputs": [],
   "source": [
    "# PROMPT 3  - get the value counts for order status\n"
   ]
  },
  {
   "cell_type": "code",
   "execution_count": null,
   "metadata": {},
   "outputs": [],
   "source": []
  },
  {
   "cell_type": "markdown",
   "metadata": {},
   "source": [
    "## This prints a list of unique airline names\n",
    "\n",
    "We use `unique()` on the series to get a unique list of value, and `dropna()` to get rid of the empty values."
   ]
  },
  {
   "cell_type": "code",
   "execution_count": null,
   "metadata": {},
   "outputs": [],
   "source": [
    "airlines = list(flights['airline_name'].dropna().unique())\n",
    "airlines.sort()\n",
    "print(airlines)"
   ]
  },
  {
   "cell_type": "code",
   "execution_count": null,
   "metadata": {},
   "outputs": [],
   "source": [
    "# PROMPT 4 - get a unique list of the customer country\n"
   ]
  },
  {
   "cell_type": "code",
   "execution_count": null,
   "metadata": {
    "tags": []
   },
   "outputs": [],
   "source": [
    "# PROMPT 4a : generalize this to a function:\n",
    "def dedupe_series(series: pd.Series) -> list:\n",
    "    # TODO\n",
    "    \n",
    "countries = dedupe_series(orders['custcountry'])\n",
    "print(countries)"
   ]
  },
  {
   "cell_type": "markdown",
   "metadata": {},
   "source": [
    "## Create a drop-down list of airlines.\n",
    "\n",
    "this creates a drop-down selection widget based on the airline values"
   ]
  },
  {
   "cell_type": "code",
   "execution_count": null,
   "metadata": {
    "tags": []
   },
   "outputs": [],
   "source": [
    "airline_dropdown = widgets.Dropdown(options=airlines, description=\"Airline\")\n",
    "display(airline_dropdown)"
   ]
  },
  {
   "cell_type": "code",
   "execution_count": null,
   "metadata": {
    "tags": []
   },
   "outputs": [],
   "source": [
    "# PROMPT 5 - create a dropdown of countries from orders\n"
   ]
  },
  {
   "cell_type": "markdown",
   "metadata": {
    "slideshow": {
     "slide_type": "slide"
    }
   },
   "source": [
    "## Get stats on the numerical columns\n",
    "\n",
    "The `describe()` method function will get statistics for the numerical values in the dataframe."
   ]
  },
  {
   "cell_type": "code",
   "execution_count": null,
   "metadata": {},
   "outputs": [],
   "source": [
    "flights.describe()"
   ]
  },
  {
   "cell_type": "code",
   "execution_count": null,
   "metadata": {},
   "outputs": [],
   "source": [
    "# PROMPT 6 - that is the least expensive order? Most expensive shipping amount?\n"
   ]
  },
  {
   "cell_type": "markdown",
   "metadata": {},
   "source": [
    "## Storing Min and Max in variables\n",
    "\n",
    "This example stores the shortest and longest flights in separate variables."
   ]
  },
  {
   "cell_type": "code",
   "execution_count": null,
   "metadata": {},
   "outputs": [],
   "source": [
    "shortest = flights['flight_duration'].min()\n",
    "longest = flights['flight_duration'].max()\n",
    "print(shortest, longest)"
   ]
  },
  {
   "cell_type": "code",
   "execution_count": null,
   "metadata": {
    "tags": []
   },
   "outputs": [],
   "source": [
    "# PROMPT 7 - store the largest and smallest orders order total in variables.\n"
   ]
  },
  {
   "cell_type": "markdown",
   "metadata": {},
   "source": [
    "## Creating a Range Slider widget\n",
    "\n",
    "This example creates a Range slider widget for flight duration, setting the upper and lower bounds to the min/max values."
   ]
  },
  {
   "cell_type": "code",
   "execution_count": null,
   "metadata": {
    "tags": []
   },
   "outputs": [],
   "source": [
    "flight_duration_slider = widgets.FloatRangeSlider(\n",
    "    min = shortest, max=longest, step=0.5, description=\"Duration\")\n",
    "display(flight_duration_slider)"
   ]
  },
  {
   "cell_type": "code",
   "execution_count": null,
   "metadata": {
    "tags": []
   },
   "outputs": [],
   "source": [
    "# PROMPT 8 - Create a range slider for orders using min/max approach\n"
   ]
  },
  {
   "cell_type": "markdown",
   "metadata": {},
   "source": [
    "## Let's engineer a column!\n",
    "\n",
    "This example will create a YEAR column by slicing the first 4 characters from the date. Since the data type of the `departure_date` is Object we must use the `.str` property to get the string value.\n"
   ]
  },
  {
   "cell_type": "code",
   "execution_count": null,
   "metadata": {},
   "outputs": [],
   "source": [
    "flights[\"departure_year\"] = flights[\"departure_date\"].str[:4]\n",
    "flights.head()"
   ]
  },
  {
   "cell_type": "code",
   "execution_count": null,
   "metadata": {},
   "outputs": [],
   "source": [
    "# PROMPT 9 - create an order year column!\n"
   ]
  },
  {
   "cell_type": "code",
   "execution_count": null,
   "metadata": {
    "tags": []
   },
   "outputs": [],
   "source": [
    "# prompt 10 - create an order month column!\n"
   ]
  },
  {
   "cell_type": "markdown",
   "metadata": {},
   "source": [
    "## United airlines flights\n",
    "\n",
    "This example uses a boolean filter to create a smaller dataframe of just United airlines flights."
   ]
  },
  {
   "cell_type": "code",
   "execution_count": null,
   "metadata": {},
   "outputs": [],
   "source": [
    "ua_flights = flights[\n",
    "    flights[\"airline_name\"] == \"United\"\n",
    "]\n",
    "ua_flights"
   ]
  },
  {
   "cell_type": "code",
   "execution_count": null,
   "metadata": {
    "tags": []
   },
   "outputs": [],
   "source": [
    "# Prompt 10 - display only orders that were delivered\n"
   ]
  },
  {
   "cell_type": "markdown",
   "metadata": {},
   "source": [
    "## Dataframe Boolean Filters with logical And\n",
    "\n",
    "Sometimes you want to filter a dataframe on two conditions for example:\n",
    "\n",
    "\n",
    "    - American Airlines AND\n",
    "    - Boeing 777 aircraft\n",
    "\n",
    "To do this we must use the dataframe AND operator: `&`\n",
    "\n",
    "Notice how we must include `()` around each boolean filter."
   ]
  },
  {
   "cell_type": "code",
   "execution_count": null,
   "metadata": {},
   "outputs": [],
   "source": [
    "special_flights = flights[ \n",
    "    (flights[\"airline_name\"] == \"American\") & \n",
    "    (flights[\"aircraft_type\"] == \"Boeing 777\") \n",
    "]\n",
    "special_flights.head()"
   ]
  },
  {
   "cell_type": "code",
   "execution_count": null,
   "metadata": {
    "tags": []
   },
   "outputs": [],
   "source": [
    "# PROMPT 11 - show \"special orders\": those orders delivered to the Canada in year 2023\n"
   ]
  },
  {
   "cell_type": "markdown",
   "metadata": {},
   "source": [
    "## Flight Tracker\n",
    "\n",
    "Inputs:\n",
    "\n",
    "    - Range for the duration of the flight\n",
    "    - Airline\n",
    "    \n",
    "Outputs:\n",
    "    \n",
    "    -DataFrame of flights matching that criteira\n"
   ]
  },
  {
   "cell_type": "code",
   "execution_count": null,
   "metadata": {
    "tags": []
   },
   "outputs": [],
   "source": [
    "# Get Data\n",
    "airlines = sorted(list(flights['airline_name'].dropna().unique()))\n",
    "shortest = flights['flight_duration'].min()\n",
    "longest = flights['flight_duration'].max()\n",
    "\n",
    "# Make widgets\n",
    "airline_dropdown = widgets.Dropdown(options=airlines, description=\"Airline\")\n",
    "flight_duration_slider = widgets.FloatRangeSlider(\n",
    "    min = shortest, max=longest, step=0.5, description=\"Duration\")\n",
    "\n",
    "@interact_manual(airline=airline_dropdown, duration=flight_duration_slider)\n",
    "def on_click(airline, duration):\n",
    "    filtered_flights = flights[\n",
    "        (flights[\"airline_name\"] == airline) &\n",
    "        (flights[\"flight_duration\"] >= duration[0]) &\n",
    "        (flights[\"flight_duration\"] <= duration[1])\n",
    "    ]\n",
    "    display(filtered_flights)\n",
    "\n"
   ]
  },
  {
   "cell_type": "markdown",
   "metadata": {},
   "source": [
    "## Order Report\n",
    "\n",
    "Inputs:\n",
    "\n",
    "    - Range Slider for the order amount total\n",
    "    - Year of order, Order Status, Customer Country as drop downs\n",
    "    \n",
    "Outputs:\n",
    "    \n",
    "    -DataFrame of orders matching the selected criteria\n"
   ]
  },
  {
   "cell_type": "code",
   "execution_count": null,
   "metadata": {
    "tags": []
   },
   "outputs": [],
   "source": [
    "orders.columns # a refresher of the available columns"
   ]
  },
  {
   "cell_type": "code",
   "execution_count": null,
   "metadata": {
    "tags": []
   },
   "outputs": [],
   "source": [
    "# PROMPT 12 - make the order report!\n",
    "\n",
    "# Get Data for widgets\n",
    "\n",
    "# Make widgets\n",
    "\n",
    "# main interact \n",
    "@interact_manual(country=countries, year=years, status=statuses)\n",
    "def on_click(country, year, status):\n",
    "    # TODO"
   ]
  },
  {
   "cell_type": "code",
   "execution_count": null,
   "metadata": {},
   "outputs": [],
   "source": []
  },
  {
   "cell_type": "code",
   "execution_count": null,
   "metadata": {},
   "outputs": [],
   "source": [
    "# run this code to turn in your work!\n",
    "from casstools.assignment import Assignment\n",
    "Assignment().submit()"
   ]
  },
  {
   "cell_type": "code",
   "execution_count": null,
   "metadata": {},
   "outputs": [],
   "source": []
  }
 ],
 "metadata": {
  "anaconda-cloud": {},
  "kernelspec": {
   "display_name": "Python 3 (ipykernel)",
   "language": "python",
   "name": "python3"
  },
  "language_info": {
   "codemirror_mode": {
    "name": "ipython",
    "version": 3
   },
   "file_extension": ".py",
   "mimetype": "text/x-python",
   "name": "python",
   "nbconvert_exporter": "python",
   "pygments_lexer": "ipython3",
   "version": "3.11.7"
  },
  "toc": {
   "base_numbering": 1,
   "nav_menu": {},
   "number_sections": false,
   "sideBar": false,
   "skip_h1_title": false,
   "title_cell": "Table of Contents",
   "title_sidebar": "Contents",
   "toc_cell": false,
   "toc_position": {},
   "toc_section_display": false,
   "toc_window_display": false
  },
  "varInspector": {
   "cols": {
    "lenName": 16,
    "lenType": 16,
    "lenVar": 40
   },
   "kernels_config": {
    "python": {
     "delete_cmd_postfix": "",
     "delete_cmd_prefix": "del ",
     "library": "var_list.py",
     "varRefreshCmd": "print(var_dic_list())"
    },
    "r": {
     "delete_cmd_postfix": ") ",
     "delete_cmd_prefix": "rm(",
     "library": "var_list.r",
     "varRefreshCmd": "cat(var_dic_list()) "
    }
   },
   "types_to_exclude": [
    "module",
    "function",
    "builtin_function_or_method",
    "instance",
    "_Feature"
   ],
   "window_display": false
  }
 },
 "nbformat": 4,
 "nbformat_minor": 4
}
