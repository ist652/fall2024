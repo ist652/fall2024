{
 "cells": [
  {
   "cell_type": "markdown",
   "id": "818bbfce",
   "metadata": {
    "id": "818bbfce"
   },
   "source": [
    "# PRACTICE - NUMPY"
   ]
  },
  {
   "cell_type": "markdown",
   "id": "6dad7682",
   "metadata": {
    "id": "6dad7682"
   },
   "source": [
    "### Complete the following questions. Add additional code cells as needed (recommended)."
   ]
  },
  {
   "cell_type": "code",
   "execution_count": 8,
   "id": "38eabd1f",
   "metadata": {
    "id": "38eabd1f",
    "tags": []
   },
   "outputs": [],
   "source": [
    "import numpy as np"
   ]
  },
  {
   "cell_type": "markdown",
   "id": "9c6f9190",
   "metadata": {
    "id": "9c6f9190"
   },
   "source": [
    "### Creating Arrays"
   ]
  },
  {
   "cell_type": "code",
   "execution_count": null,
   "id": "7f27d2f6",
   "metadata": {
    "id": "7f27d2f6"
   },
   "outputs": [],
   "source": [
    "# QUESTION 1\n",
    "\n",
    "# Create an 1d array from a list\n",
    "# Print the array and its type\n",
    "# Add 2 to each element of an array\n",
    "# Explain the key difference between a list and an array\n",
    "# What happens when you put an integer, a Boolean, and a string in the same array. Illustrate.\n",
    "\n"
   ]
  },
  {
   "cell_type": "code",
   "execution_count": 3,
   "id": "abf79646-5d77-49ed-99b9-5ba420038cb7",
   "metadata": {
    "tags": []
   },
   "outputs": [
    {
     "name": "stdout",
     "output_type": "stream",
     "text": [
      "[1 2 3 4 5] \n",
      "type int64\n"
     ]
    }
   ],
   "source": [
    "# QUESTION 1 : Create an 1d array from a list\n",
    "\n",
    "list_1 = [1, 2, 3, 4,5]\n",
    "array1 = np.array(list_1)\n",
    "\n",
    "# Print the array and its type\n",
    "print(array1, \"\\ntype\", array1.dtype)"
   ]
  },
  {
   "cell_type": "code",
   "execution_count": 4,
   "id": "8495c59f-2d4d-467e-ba83-a2d8b41f1455",
   "metadata": {
    "tags": []
   },
   "outputs": [
    {
     "name": "stdout",
     "output_type": "stream",
     "text": [
      "[3 4 5 6 7]\n"
     ]
    }
   ],
   "source": [
    "# Add 2 to each element of an array\n",
    "array2 = array1 +2\n",
    "print(array2)"
   ]
  },
  {
   "cell_type": "code",
   "execution_count": null,
   "id": "13c9c6c1-d3e2-47ba-9edf-76e1f59b8a71",
   "metadata": {},
   "outputs": [],
   "source": []
  },
  {
   "cell_type": "code",
   "execution_count": null,
   "id": "acd53562-4dd2-447c-af2e-c6089683122d",
   "metadata": {},
   "outputs": [],
   "source": []
  },
  {
   "cell_type": "code",
   "execution_count": null,
   "id": "2b4d4d1f-443a-4892-80d2-a5152563d6cc",
   "metadata": {},
   "outputs": [],
   "source": []
  },
  {
   "cell_type": "code",
   "execution_count": null,
   "id": "1f86d1b0",
   "metadata": {
    "id": "1f86d1b0"
   },
   "outputs": [],
   "source": [
    "# QUESTION 2\n",
    "\n",
    "# Create a 2d array from a list of lists\n",
    "# Create a float 2d array\n",
    "# Convert to 'int' datatype\n",
    "# Convert to int then to str datatype\n",
    "# # Create an object to hold numbers as well as strings\n",
    "# If you want your array will hold characters and numbers in the same array, what will you set you datatype as...\n",
    "# Convert an array back to a list\n",
    "\n"
   ]
  },
  {
   "cell_type": "code",
   "execution_count": 5,
   "id": "2744db20-97b5-48c6-bf2f-0e5fd83e92b3",
   "metadata": {
    "tags": []
   },
   "outputs": [
    {
     "name": "stdout",
     "output_type": "stream",
     "text": [
      "[[1 2 3]\n",
      " [4 5 6]\n",
      " [7 8 9]]\n"
     ]
    }
   ],
   "source": [
    "# Create a 2d array from a list of lists\n",
    "\n",
    "list_of_lists = [[1,2,3], [4,5,6], [7,8,9]]\n",
    "array2d = np.array(list_of_lists)\n",
    "print(array2d)\n"
   ]
  },
  {
   "cell_type": "code",
   "execution_count": 7,
   "id": "27767125-199e-4013-ab16-399253015472",
   "metadata": {
    "tags": []
   },
   "outputs": [
    {
     "name": "stdout",
     "output_type": "stream",
     "text": [
      "[[1.5 2.2 9.6]\n",
      " [8.3 3.3 1.1]]\n"
     ]
    }
   ],
   "source": [
    "array_float = np.array([[1.5, 2.2, 9.6], [8.3,3.3, 1.1]])\n",
    "print(array_float)"
   ]
  },
  {
   "cell_type": "code",
   "execution_count": 8,
   "id": "f30989ed-c11c-4a86-bd12-66098fe91158",
   "metadata": {
    "tags": []
   },
   "outputs": [
    {
     "name": "stdout",
     "output_type": "stream",
     "text": [
      "[[1 2 9]\n",
      " [8 3 1]]\n"
     ]
    }
   ],
   "source": [
    "array_int = array_float.astype(int)\n",
    "print(array_int)"
   ]
  },
  {
   "cell_type": "code",
   "execution_count": 9,
   "id": "7e93d1af-236c-41db-8ad9-84187c26dc0a",
   "metadata": {
    "tags": []
   },
   "outputs": [
    {
     "name": "stdout",
     "output_type": "stream",
     "text": [
      "[['1' '2' '9']\n",
      " ['8' '3' '1']]\n"
     ]
    }
   ],
   "source": [
    "array_str = array_float.astype(int).astype(str)\n",
    "print(array_str)"
   ]
  },
  {
   "cell_type": "code",
   "execution_count": 12,
   "id": "6fd7fc29-06aa-4c98-9850-2826798bf7ca",
   "metadata": {
    "tags": []
   },
   "outputs": [
    {
     "name": "stdout",
     "output_type": "stream",
     "text": [
      "[1 2 3 'four' 'five' 'six']\n"
     ]
    }
   ],
   "source": [
    "array_obj = np.array([1, 2, 3, 'four', 'five', 'six'], dtype = object)\n",
    "print(array_obj)"
   ]
  },
  {
   "cell_type": "markdown",
   "id": "c76237b5",
   "metadata": {
    "id": "c76237b5"
   },
   "source": [
    "### Inspecting size and shape"
   ]
  },
  {
   "cell_type": "code",
   "execution_count": null,
   "id": "f490824b",
   "metadata": {
    "id": "f490824b"
   },
   "outputs": [],
   "source": [
    "# QUESTION 3\n",
    "\n",
    "# Create a 2d array with 3 rows and 4 columns\n",
    "# Print the shape of the array. Explain the output\n",
    "# Print the size of the array. Explain the output\n",
    "# Print the dimensions of the array. Explain the output.\n"
   ]
  },
  {
   "cell_type": "code",
   "execution_count": 13,
   "id": "3f9e8029-d13b-4828-b9d4-c2dfb2be01d0",
   "metadata": {
    "tags": []
   },
   "outputs": [
    {
     "name": "stdout",
     "output_type": "stream",
     "text": [
      "[[ 1  2  3  4]\n",
      " [ 5  6  7  8]\n",
      " [ 9 10 11 12]]\n"
     ]
    }
   ],
   "source": [
    "array3 = np.arange(1,13).reshape(3,4)\n",
    "print(array3)"
   ]
  },
  {
   "cell_type": "code",
   "execution_count": 3,
   "id": "f0444f29-c3ca-4f97-bb08-9e517da8d449",
   "metadata": {},
   "outputs": [
    {
     "name": "stdout",
     "output_type": "stream",
     "text": [
      "[[1. 2.]\n",
      " [5. 6.]]\n"
     ]
    }
   ],
   "source": [
    "arr_2d=np.array([[1,2,3,4],[5,6,7,8],[9,10,11,12]], dtype=float)\n",
    "subset = arr_2d[:2, :2]\n",
    "print(subset)\n",
    "#  we are creating a new array subset by slicing arr_2d. \n",
    "#The [:2, :2] notation means we're selecting the first two rows and first two columns of arr_2d. \n"
   ]
  },
  {
   "cell_type": "code",
   "execution_count": 4,
   "id": "9fd9c92f-29e5-4f1b-9a33-3fc0a748268f",
   "metadata": {},
   "outputs": [
    {
     "name": "stdout",
     "output_type": "stream",
     "text": [
      "[[False False False False]\n",
      " [False  True  True  True]\n",
      " [ True  True  True  True]]\n"
     ]
    }
   ],
   "source": [
    "condition = arr_2d > 5\n",
    "print(condition)\n",
    "#We're creating a new array condition that contains Boolean values.\n",
    "#Each element of condition will be True if the corresponding element in arr_2d is greater than 5, and False otherwise.\n"
   ]
  },
  {
   "cell_type": "code",
   "execution_count": 5,
   "id": "b06abce1-8178-4cb8-bb0a-b0cce73f8d02",
   "metadata": {},
   "outputs": [
    {
     "name": "stdout",
     "output_type": "stream",
     "text": [
      "[[ 9. 10. 11. 12.]\n",
      " [ 5.  6.  7.  8.]\n",
      " [ 1.  2.  3.  4.]]\n",
      "\n",
      "\n"
     ]
    }
   ],
   "source": [
    "reversed_rows = arr_2d[::-1, :]\n",
    "print(reversed_rows)\n",
    "# The ::-1 notation means to reverse the order of rows. The : in the second position means to select all columns.\n",
    "\n"
   ]
  },
  {
   "cell_type": "code",
   "execution_count": 6,
   "id": "a506d934-8bb1-4785-b7f0-d4a4e2f61a81",
   "metadata": {},
   "outputs": [
    {
     "name": "stdout",
     "output_type": "stream",
     "text": [
      "[[ 1.  2.  3.  4.]\n",
      " [ 5. nan  7.  8.]\n",
      " [ 9. 10. inf 12.]]\n"
     ]
    }
   ],
   "source": [
    "arr_2d[1, 1] = np.nan\n",
    "arr_2d[2, 2] = np.inf\n",
    "print(arr_2d)\n",
    "# In these two lines, we're setting specific elements of arr_2d to special values,\n",
    "# arr_2d[1, 1] is setting the element at the second row and second column to np.nan, which represents \"Not a Number\" \n",
    "#(a way to represent missing or undefined values in numerical computations).\n",
    "# arr_2d[2, 2] is setting the element at the third row and third column to np.inf, which represents positive infinity.\n"
   ]
  },
  {
   "cell_type": "code",
   "execution_count": 7,
   "id": "3deeb472-324e-48b6-bdd5-65b1ec1e9795",
   "metadata": {},
   "outputs": [
    {
     "name": "stdout",
     "output_type": "stream",
     "text": [
      "[[ 1.  2.  3.  4.]\n",
      " [ 5. -1.  7.  8.]\n",
      " [ 9. 10. -1. 12.]]\n"
     ]
    }
   ],
   "source": [
    "arr_2d[np.isnan(arr_2d)] = -1\n",
    "arr_2d[np.isinf(arr_2d)] = -1\n",
    "print(arr_2d)\n",
    "# In these two lines, we're using boolean indexing to find and replace specific values in arr_2d. np.isnan(arr_2d) creates a boolean mask where True corresponds to elements that are np.nan. \n",
    "#Then, we're using this mask to replace those elements with -1. \n",
    "#Similarly, np.isinf(arr_2d) creates a boolean mask for elements that are np.inf,and we're replacing them with -1.\n",
    "\n",
    "#After running these lines, arr_2d will have -1 in place of any np.nan or np.inf values.\n"
   ]
  },
  {
   "cell_type": "markdown",
   "id": "ef1653b4",
   "metadata": {
    "id": "ef1653b4"
   },
   "source": [
    "### Extracting Items, Reversing Rows and adding Missing Values"
   ]
  },
  {
   "cell_type": "code",
   "execution_count": null,
   "id": "80c55e4b",
   "metadata": {
    "id": "80c55e4b"
   },
   "outputs": [],
   "source": [
    "# QUESTION 4\n",
    "\n",
    "# Using the array in Q3 extract the first 2 rows and columns\n",
    "# Get a boolean output by applying the condition to each element.\n",
    "# Reverse only the row positions\n",
    "# Reverse the row and column positions\n",
    "# Insert a nan and an inf in positions of your choosing\n",
    "# # Replace nan and inf with -1.\n"
   ]
  },
  {
   "cell_type": "code",
   "execution_count": null,
   "id": "1a9d3875-42e6-4610-98da-fcd28ec52f15",
   "metadata": {},
   "outputs": [],
   "source": []
  },
  {
   "cell_type": "code",
   "execution_count": null,
   "id": "fdee9d93-ac86-47f5-90be-f9011133ff4c",
   "metadata": {},
   "outputs": [],
   "source": []
  },
  {
   "cell_type": "code",
   "execution_count": null,
   "id": "e2f48e52-f1e6-4893-80a1-ac2b94a14184",
   "metadata": {},
   "outputs": [],
   "source": []
  },
  {
   "cell_type": "code",
   "execution_count": null,
   "id": "79e2b3b8-13d3-4e01-a543-8cb49273198e",
   "metadata": {},
   "outputs": [],
   "source": []
  },
  {
   "cell_type": "markdown",
   "id": "3c8f0533",
   "metadata": {
    "id": "3c8f0533"
   },
   "source": [
    "### Creating a new array from existing array"
   ]
  },
  {
   "cell_type": "code",
   "execution_count": null,
   "id": "c23f6126",
   "metadata": {
    "id": "c23f6126"
   },
   "outputs": [],
   "source": [
    "# QUESTION 5\n",
    "\n",
    "# Explain the precautions you need to take when assigning a portion of an array to a new array. Illustrate with an example.\n",
    "# What are some approaches you can take to keep the parent array intact? Illustrate with examples.\n"
   ]
  },
  {
   "cell_type": "code",
   "execution_count": 9,
   "id": "b687cab4-5cef-47f6-be60-bf4775037d73",
   "metadata": {
    "tags": []
   },
   "outputs": [
    {
     "name": "stdout",
     "output_type": "stream",
     "text": [
      "[[0 1 2 3 4]\n",
      " [5 6 7 8 9]]\n",
      "[[0 1 2]]\n",
      "[[0 9 2 3 4]\n",
      " [5 6 7 8 9]]\n"
     ]
    }
   ],
   "source": [
    "arrayexisting = np.arange(0, 10).reshape(2, 5)\n",
    "print(arrayexisting)\n",
    "arraynew = arrayexisting[:1, :3]\n",
    "print(arraynew)\n",
    "arraynew[:, 1] = 9\n",
    "print(arrayexisting)"
   ]
  },
  {
   "cell_type": "code",
   "execution_count": 12,
   "id": "2db237d2-1479-42cd-be11-a50deecb443a",
   "metadata": {
    "tags": []
   },
   "outputs": [
    {
     "name": "stdout",
     "output_type": "stream",
     "text": [
      "[[0 1 2 3 4]\n",
      " [5 6 7 8 9]]\n",
      "[[0 1 2 3 4]\n",
      " [5 6 7 8 9]]\n",
      "[[0 1 2 3 4]\n",
      " [5 6 7 8 9]]\n",
      "[[0 9 2 3 4]\n",
      " [5 9 7 8 9]]\n"
     ]
    }
   ],
   "source": [
    "arrayold = np.arange(0, 10).reshape(2, 5)\n",
    "print(arrayold)\n",
    "arraynew = arrayold.copy()\n",
    "print(arraynew)\n",
    "arraynew[:, 1] = 9\n",
    "print(arrayold)\n",
    "print(arraynew)"
   ]
  },
  {
   "cell_type": "code",
   "execution_count": null,
   "id": "e95b5e3f-272f-4900-9775-4d920f80997f",
   "metadata": {},
   "outputs": [],
   "source": []
  },
  {
   "cell_type": "code",
   "execution_count": null,
   "id": "66f156ee-fd3a-45f1-8fc7-89988e839c9d",
   "metadata": {},
   "outputs": [],
   "source": []
  },
  {
   "cell_type": "code",
   "execution_count": null,
   "id": "4c092e89-e81d-4ec4-aa9d-00a9c1def50d",
   "metadata": {},
   "outputs": [],
   "source": []
  },
  {
   "cell_type": "code",
   "execution_count": null,
   "id": "b39141a7-f49b-4895-8197-b363987f60a2",
   "metadata": {},
   "outputs": [],
   "source": []
  },
  {
   "cell_type": "markdown",
   "id": "0f0373d8",
   "metadata": {
    "id": "0f0373d8"
   },
   "source": [
    "### Reshaping and Flattening"
   ]
  },
  {
   "cell_type": "code",
   "execution_count": null,
   "id": "74a4fecc",
   "metadata": {
    "id": "74a4fecc"
   },
   "outputs": [],
   "source": [
    "# QUESTION 6\n",
    "\n",
    "# Describe what is reshaping an array. Illustrate with an example.\n",
    "# Describe what is flattening an array. Illustrate with an example.\n",
    "# What are the two methods for flattening an array? Illustrate both methods with an example.\n",
    "# What are the differences between these two methods."
   ]
  },
  {
   "cell_type": "code",
   "execution_count": 13,
   "id": "b5c47db8-190e-4ff6-9738-54b9f3cd37c9",
   "metadata": {
    "tags": []
   },
   "outputs": [
    {
     "name": "stdout",
     "output_type": "stream",
     "text": [
      "[[1 2 4 5]\n",
      " [4 5 6 7]]\n",
      "[[1 2]\n",
      " [4 5]\n",
      " [4 5]\n",
      " [6 7]]\n",
      "[[1 4]\n",
      " [2 5]\n",
      " [4 6]\n",
      " [5 7]]\n"
     ]
    }
   ],
   "source": [
    "#Create a (2,4) array\n",
    "arr_shape=np.array([[1,2,4,5],[4,5,6,7]])\n",
    "print(arr_shape)\n",
    "\n",
    "#Reshape to a (4,2) array (keeps all data in order when reshaping)\n",
    "print(arr_shape.reshape(4,2))\n",
    "\n",
    "#Or use T (transpose)- each row is reshaped into a single column\n",
    "print(arr_shape.T)\n"
   ]
  },
  {
   "cell_type": "code",
   "execution_count": 14,
   "id": "3bb8238c-6c2a-4e2d-b6f2-7166a5c0c8de",
   "metadata": {
    "tags": []
   },
   "outputs": [
    {
     "name": "stdout",
     "output_type": "stream",
     "text": [
      "[[1 2 4 5]\n",
      " [4 5 6 7]]\n",
      "[1 2 4 5 4 5 6 7]\n"
     ]
    }
   ],
   "source": [
    "arr_shape=np.array([[1,2,4,5],[4,5,6,7]])\n",
    "print(arr_shape)\n",
    "\n",
    "print(arr_shape.flatten())\n",
    "\n",
    "\n"
   ]
  },
  {
   "cell_type": "code",
   "execution_count": 15,
   "id": "abcd9449-8b85-46eb-9b9d-21bc3bb4c9ac",
   "metadata": {
    "tags": []
   },
   "outputs": [
    {
     "name": "stdout",
     "output_type": "stream",
     "text": [
      "[1 2 4 5 4 5 6 7]\n",
      "[1 2 4 5 4 5 6 7]\n"
     ]
    }
   ],
   "source": [
    "#flatten() and #ravel()\n",
    "print(arr_shape.ravel())\n",
    "print(arr_shape.flatten())\n"
   ]
  },
  {
   "cell_type": "markdown",
   "id": "27582ff1",
   "metadata": {
    "id": "27582ff1"
   },
   "source": [
    "### Creating Sequences, repetitions and random numbers"
   ]
  },
  {
   "cell_type": "code",
   "execution_count": 21,
   "id": "addb17d4",
   "metadata": {
    "id": "addb17d4"
   },
   "outputs": [
    {
     "name": "stdout",
     "output_type": "stream",
     "text": [
      "[ 1  3  6  9 11 14 17 20]\n",
      "[ 1  3  6  9 11 14 17 20  1  3  6  9 11 14 17 20  1  3  6  9 11 14 17 20\n",
      "  1  3  6  9 11 14 17 20]\n",
      "[ 1  1  1  3  3  3  6  6  6  9  9  9 11 11 11 14 14 14 17 17 17 20 20 20\n",
      "  1  1  1  3  3  3  6  6  6  9  9  9 11 11 11 14 14 14 17 17 17 20 20 20\n",
      "  1  1  1  3  3  3  6  6  6  9  9  9 11 11 11 14 14 14 17 17 17 20 20 20\n",
      "  1  1  1  3  3  3  6  6  6  9  9  9 11 11 11 14 14 14 17 17 17 20 20 20]\n",
      "[[0.12063039 0.79604236]\n",
      " [0.28599207 0.970994  ]]\n",
      "[[3.029639   3.26387435]\n",
      " [9.53073421 2.43576676]]\n"
     ]
    }
   ],
   "source": [
    "# QUESTION 7\n",
    "\n",
    "\n",
    "# Create an array with numbers 0 to 9\n",
    "g = np.arange(0,10)\n",
    "\n",
    "# Create an array 0 to 9 with step of 2\n",
    "h = np.arange(0,10,2)\n",
    "\n",
    "# Create an array 10 to 1, decreasing order\n",
    "i = np.arange(0,10,-1)\n",
    "\n",
    "# Create an array with zeros or ones\n",
    "j = np.zeros((2,3))\n",
    "\n",
    "'''\n",
    "SIDENOTE: If you want to create an array of exactly 10 numbers between 1 and 50 you can use np.linspace.\n",
    "\n",
    "np.linspace(start=1, stop=50, num=10, dtype=int)\n",
    "array([ 1,  6, 11, 17, 22, 28, 33, 39, 44, 50])\n",
    "\n",
    "Note the dtype is forced as type int\n",
    "\n",
    "\n",
    "To repeat an entire array n times use np.tile()\n",
    "If you have an array assign to a variable a. To repeat the array twice ...np.tile(a, 2)\n",
    "\n",
    "To repeat an element n times use np.repeat()\n",
    "To repeat each element in the array a twice  ... np.repeat(a, 2))\n",
    "\n",
    "'''\n",
    "\n",
    "# Create an array using np.linspace()\n",
    "k = np.linspace(start=1, stop=20, num=8, dtype=int)\n",
    "print(k)\n",
    "\n",
    "# Repeat your array 4 times\n",
    "k = np.tile(k,4)\n",
    "print(k)\n",
    "\n",
    "# Repeat each element in the array 3 times\n",
    "k = np.repeat(k,3)\n",
    "print(k)\n",
    "\n",
    "# Create an array with random numbers between [0,1) of shape 2,2\n",
    "l = np.random.random((2,2))\n",
    "print(l)\n",
    "\n",
    "# Create an array with random integers between [0, 10) of shape 2,2\n",
    "m = np.random.random((2,2))*10\n",
    "print(m)"
   ]
  },
  {
   "cell_type": "code",
   "execution_count": null,
   "id": "56fd5bb1-8da8-4ff0-a085-095f346c2ffe",
   "metadata": {},
   "outputs": [],
   "source": []
  },
  {
   "cell_type": "code",
   "execution_count": null,
   "id": "bf0830e2-c70a-46de-b85b-c4c6c5423410",
   "metadata": {},
   "outputs": [],
   "source": []
  },
  {
   "cell_type": "code",
   "execution_count": null,
   "id": "f54b0424-1f8d-4ae0-b978-1cab1ddbcfeb",
   "metadata": {},
   "outputs": [],
   "source": []
  },
  {
   "cell_type": "code",
   "execution_count": null,
   "id": "32a7c53e-6ce2-41fe-8dd5-9e7dd6553b52",
   "metadata": {},
   "outputs": [],
   "source": []
  },
  {
   "cell_type": "code",
   "execution_count": null,
   "id": "b3611321-920b-482d-a15c-5e35c5338e07",
   "metadata": {},
   "outputs": [],
   "source": []
  },
  {
   "cell_type": "code",
   "execution_count": null,
   "id": "2213ccf3-767b-4d5e-b469-5cfd53f8cc25",
   "metadata": {},
   "outputs": [],
   "source": []
  },
  {
   "cell_type": "code",
   "execution_count": null,
   "id": "5e7a1edc-274b-410e-ad80-41ff7ccbcc08",
   "metadata": {},
   "outputs": [],
   "source": []
  },
  {
   "cell_type": "markdown",
   "id": "050488ab",
   "metadata": {
    "id": "050488ab"
   },
   "source": [
    "### Use Case"
   ]
  },
  {
   "cell_type": "code",
   "execution_count": null,
   "id": "7c45a947",
   "metadata": {
    "id": "7c45a947"
   },
   "outputs": [],
   "source": []
  }
 ],
 "metadata": {
  "colab": {
   "provenance": []
  },
  "kernelspec": {
   "display_name": "Python 3 (ipykernel)",
   "language": "python",
   "name": "python3"
  },
  "language_info": {
   "codemirror_mode": {
    "name": "ipython",
    "version": 3
   },
   "file_extension": ".py",
   "mimetype": "text/x-python",
   "name": "python",
   "nbconvert_exporter": "python",
   "pygments_lexer": "ipython3",
   "version": "3.11.3"
  }
 },
 "nbformat": 4,
 "nbformat_minor": 5
}
