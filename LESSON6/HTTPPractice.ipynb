{
 "cells": [
  {
   "cell_type": "markdown",
   "id": "35d72e2e-dfb4-40a3-b61d-fca58930c71a",
   "metadata": {},
   "source": [
    "# HTTP Practice: \n",
    "\n",
    "## Web APIs and project advice\n",
    "\n",
    "Most of this practice is a walk-through. You only need to write code at the end.\n",
    "\n",
    "## The Golden Snowball?\n",
    "\n",
    "There is a little known competition among Upstate NY Cities called the \"Golden Snowball\" it's awarded to the city with the highest recorded snowfall for the winter.  You can learn about this competition here: \n",
    "\n",
    "- (Live Site) https://goldensnowball.com/about-the-snow-contest/\n",
    "- (Web Archive) https://web.archive.org/web/20231223063219/https://goldensnowball.com/about-the-snow-contest/\n",
    "\n",
    "Data Set is here:\n",
    "\n",
    "- https://goldensnowball.com/ \n",
    "\n",
    "This program will rank the current Golden Snowball winners and place them on a map. First place is the lighest color blue, all the way down to darker blues and grey which is last place.\n",
    "\n",
    "Here's a screenshot of the map:\n",
    "\n",
    "![https://i.imgur.com/MgR5N78.png](https://i.imgur.com/MgR5N78.png)\n",
    "\n",
    "\n",
    "## 5 Lessons you will learn in this exercise\n",
    "\n",
    "Throughout this lesson you will learn the following techniques.\n",
    "\n",
    "1. What to do when `pd.read_html()` fails you!\n",
    "2. Dataframe cleanup: How to sort, replace headers, slice, and reindex as dataframe\n",
    "3. Creating your own data\n",
    "4. How to merge two dataframes on their index.\n",
    "5. Using `df.apply()` to output a DataFrame instead of a Series\n",
    "\n",
    "\n",
    "\n",
    "### Modules\n",
    "\n",
    "You will need to install some modules for this assignment  `html5lib` for reading local HTML, `openpyxl` for reading in Excel files."
   ]
  },
  {
   "cell_type": "code",
   "execution_count": 1,
   "id": "822c6e04-d2ad-4042-9a9d-19840d32abe7",
   "metadata": {
    "tags": []
   },
   "outputs": [
    {
     "name": "stdout",
     "output_type": "stream",
     "text": [
      "Collecting html5lib\n",
      "  Downloading html5lib-1.1-py2.py3-none-any.whl.metadata (16 kB)\n",
      "Collecting openpyxl\n",
      "  Downloading openpyxl-3.1.5-py2.py3-none-any.whl.metadata (2.5 kB)\n",
      "Requirement already satisfied: six>=1.9 in /opt/conda/lib/python3.11/site-packages (from html5lib) (1.16.0)\n",
      "Requirement already satisfied: webencodings in /opt/conda/lib/python3.11/site-packages (from html5lib) (0.5.1)\n",
      "Collecting et-xmlfile (from openpyxl)\n",
      "  Downloading et_xmlfile-1.1.0-py3-none-any.whl.metadata (1.8 kB)\n",
      "Downloading html5lib-1.1-py2.py3-none-any.whl (112 kB)\n",
      "\u001b[2K   \u001b[90m━━━━━━━━━━━━━━━━━━━━━━━━━━━━━━━━━━━━━━━━\u001b[0m \u001b[32m112.2/112.2 kB\u001b[0m \u001b[31m5.6 MB/s\u001b[0m eta \u001b[36m0:00:00\u001b[0m\n",
      "\u001b[?25hDownloading openpyxl-3.1.5-py2.py3-none-any.whl (250 kB)\n",
      "\u001b[2K   \u001b[90m━━━━━━━━━━━━━━━━━━━━━━━━━━━━━━━━━━━━━━━━\u001b[0m \u001b[32m250.9/250.9 kB\u001b[0m \u001b[31m20.7 MB/s\u001b[0m eta \u001b[36m0:00:00\u001b[0m\n",
      "\u001b[?25hDownloading et_xmlfile-1.1.0-py3-none-any.whl (4.7 kB)\n",
      "Installing collected packages: html5lib, et-xmlfile, openpyxl\n",
      "Successfully installed et-xmlfile-1.1.0 html5lib-1.1 openpyxl-3.1.5\n"
     ]
    }
   ],
   "source": [
    "!pip install html5lib openpyxl"
   ]
  },
  {
   "cell_type": "markdown",
   "id": "97be5683-584e-43e9-8be3-cee4377f2b37",
   "metadata": {},
   "source": [
    "### CENT Iot API\n",
    "\n",
    "Login to the CENT IoT portal and get your API Key:  [https://cent.ischool-iot.net](https://cent.ischool-iot.net)\n",
    "\n",
    "Paste your API Key in the variable `APIKEY` below."
   ]
  },
  {
   "cell_type": "code",
   "execution_count": null,
   "id": "96f850e5-3ba7-43d1-aea8-83063550b2e1",
   "metadata": {
    "tags": []
   },
   "outputs": [],
   "source": [
    "import pandas as pd\n",
    "import folium\n",
    "import requests\n",
    "from IPython.display import display, HTML\n",
    "APIKEY = \"todoyourapihere\""
   ]
  },
  {
   "cell_type": "markdown",
   "id": "32db648d-f0a6-4911-890a-d4e82978c614",
   "metadata": {},
   "source": [
    "### Lesson 1: What to do when pd.read_html() fails you!\n",
    "\n",
    "Run the following code. It should generate an HTTP 406 error. There are a multitude of reasons why you cannot read a \"live\" webpage with `read_html()` Some of the more common ones:\n",
    "\n",
    "- 406 \"Not Acceptable\" error. The request in its format is not acceptable. Here we need to add additional header. (in this case we would need to add additional accept headers)\n",
    "- 429 \"Too Many Requests\" you are accessing the site or API too often. You should be mindful of the frequency in which you access a site.\n"
   ]
  },
  {
   "cell_type": "code",
   "execution_count": null,
   "id": "9be5d7e4-482e-4327-b268-2276474f690c",
   "metadata": {
    "tags": []
   },
   "outputs": [],
   "source": [
    "# Error Help Me!\n",
    "tables = pd.read_html(\"https://goldensnowball.com/\", storage_options={\"User-Agent\": \"Mozilla/5.0\"} )"
   ]
  },
  {
   "cell_type": "markdown",
   "id": "79f2574a-f3bc-491c-9234-c7b597860f43",
   "metadata": {},
   "source": [
    "#### The solution is Simple!\n",
    "\n",
    "Getting around these errors is simple. **Download the page from your browser and upload it to jupyterhub!**\n",
    "\n",
    "1) Open the page in Google Chrome (Instructions in other browesers are similar)\n",
    "2) Right click on the loaded page and select **Save As...\"** from the menu.\n",
    "3) Save as type **Webpage, Single File** <== this is important!\n",
    "4) Give the file a simple, meaningful name like `baseballscores.html` or in this case I called it `goldensnowball.html`\n",
    "5) Save the file.\n",
    "6) Upload the saved file to jupyterhub. You can also drag and drop it into the Jupyterhub window.\n",
    "\n",
    "**Look at you! Now you no longer need the website, because you have a local copy of it.** This is not only efficient, but its also **a respectful practice** since you are not making continued, frequent, unnecessary requests to someone's website while you are figuring things out! \n",
    "\n",
    "\n",
    "\n",
    "#### Let's read in the local copy, and see what the table looks like"
   ]
  },
  {
   "cell_type": "code",
   "execution_count": null,
   "id": "da70ff85-e2c3-407c-a61a-8c8e875ec3f5",
   "metadata": {
    "tags": []
   },
   "outputs": [],
   "source": [
    "tables = pd.read_html(\"goldensnowball.html\", storage_options={\"User-Agent\": \"Mozilla/5.0\"} )\n",
    "snow = tables[0]\n",
    "snow"
   ]
  },
  {
   "cell_type": "markdown",
   "id": "4beeb261-011e-46af-afd0-9fbd619470fd",
   "metadata": {
    "tags": []
   },
   "source": [
    "### Lesson 2: Cleaning up a dataframe\n",
    "\n",
    "This DataFrame is a **mess**!!! \n",
    "\n",
    "- No header\n",
    "- NaN\n",
    "- Need to sorty by snowfall, highest first\n",
    "- Need to reindex.\n"
   ]
  },
  {
   "cell_type": "code",
   "execution_count": null,
   "id": "f967a7ba-de3b-4533-be27-ac6ba363dcb9",
   "metadata": {
    "tags": []
   },
   "outputs": [],
   "source": [
    "# Set a header \n",
    "snow.columns = [ \"city\", \"total_to_date\", \"avg_to_date\", \"total_last_season\", \"normal_season_avg\", \"all_time_record\"]  # new columns\n",
    "snow"
   ]
  },
  {
   "cell_type": "code",
   "execution_count": null,
   "id": "121dea40-7a6a-4102-871d-1d303f2edb00",
   "metadata": {
    "tags": []
   },
   "outputs": [],
   "source": [
    "# Drop the `NaN` values.\n",
    "snow = snow.dropna()\n",
    "snow"
   ]
  },
  {
   "cell_type": "code",
   "execution_count": null,
   "id": "36c41c16-8220-4f85-ad7d-cb644a3868ba",
   "metadata": {
    "tags": []
   },
   "outputs": [],
   "source": [
    "# First row needs to go! DataFrame slice\n",
    "snow = snow[1:]\n",
    "snow"
   ]
  },
  {
   "cell_type": "code",
   "execution_count": null,
   "id": "d20292e6-0f91-436d-bea1-59248555f2fa",
   "metadata": {
    "tags": []
   },
   "outputs": [],
   "source": [
    "# Yes this data is sorted properly, but will it ALWAYS be? EVERY time we load it?\n",
    "snow = snow.sort_values(\"total_to_date\", ascending=False)\n",
    "snow"
   ]
  },
  {
   "cell_type": "code",
   "execution_count": null,
   "id": "d7ffb880-9033-4706-82bb-aa01ea52dbf7",
   "metadata": {
    "tags": []
   },
   "outputs": [],
   "source": [
    "# Reset the index back to zero-based\n",
    "snow = snow.reset_index(drop=True)\n",
    "snow"
   ]
  },
  {
   "cell_type": "markdown",
   "id": "d4a91718-f427-4eb6-a76b-9d0c5ced471d",
   "metadata": {},
   "source": [
    "#### Tip: Save your cleaned dataframe.\n",
    "\n",
    "When you're done cleaning, its ALWAYS a good idea to write out the dataframe. That way you can start from the cleaned data."
   ]
  },
  {
   "cell_type": "code",
   "execution_count": null,
   "id": "06f20acc-61aa-42d9-9122-410ef9a5d33e",
   "metadata": {
    "tags": []
   },
   "outputs": [],
   "source": [
    "snow.to_csv(\"golden_snowball_cleaned.csv\", header=True, index=False)"
   ]
  },
  {
   "cell_type": "markdown",
   "id": "04f4c92e-fc40-44b3-a2a9-fe00b2daea06",
   "metadata": {},
   "source": [
    "### Code up to this point\n",
    "\n",
    "Here's the data cleanup sequence:\n"
   ]
  },
  {
   "cell_type": "code",
   "execution_count": 1,
   "id": "67eefa66-2b9f-4dca-920e-ff66d77ce315",
   "metadata": {
    "tags": []
   },
   "outputs": [],
   "source": [
    "# TODO complile this lesson into a series of steps\n"
   ]
  },
  {
   "cell_type": "markdown",
   "id": "636c5a0f-9cb8-465c-ba89-f59931f752e1",
   "metadata": {
    "tags": []
   },
   "source": [
    "### Lesson 3: Creating Your own data.\n",
    "\n",
    "Sometimes, you just don't have the data you need to complete the task. So you create it. **This is a completely acceptable practice.**  \n",
    "\n",
    "In fact, we do this all the time in code:\n",
    "\n",
    "For example this \"code\" represents each place 1st through 5th and which color represents that place. For example `1st` is assigned the color `\"lightblue\"`"
   ]
  },
  {
   "cell_type": "code",
   "execution_count": null,
   "id": "5447f785-25ef-4ad5-99f0-bba76bc10b97",
   "metadata": {
    "tags": []
   },
   "outputs": [],
   "source": [
    "colors = [\n",
    "    { \"place\": \"1st\", \"color\": 'lightblue'},\n",
    "    { \"place\": \"2nd\", \"color\": 'blue'},\n",
    "    { \"place\": \"3rd\", \"color\": 'darkblue'},\n",
    "    { \"place\": \"4th\", \"color\": 'cadetblue'},\n",
    "    { \"place\": \"5th\", \"color\": 'gray'}\n",
    "]\n",
    "\n",
    "cdf = pd.DataFrame(colors)\n",
    "cdf   ## THIS IS NOT CODE ITS DATA!!!"
   ]
  },
  {
   "cell_type": "markdown",
   "id": "c74ba30c-5289-4923-a6ec-7ef0d45e8fe5",
   "metadata": {},
   "source": [
    "#### Advice: Don't confuse code and data\n",
    "\n",
    "The less code you write, the less bugs you introduce. Don't write code to represent your data! Build datasets and load them into dataframes... LESS CODE IS BETTER.\n",
    "\n",
    "I made a table of data in Microsoft Excel, saved in and then uploaded to Jupyterhub. Now I load it in with `pandas`.  Easy peasy!\n"
   ]
  },
  {
   "cell_type": "code",
   "execution_count": null,
   "id": "759610b1-d534-4fd8-9196-65298a9ec934",
   "metadata": {
    "tags": []
   },
   "outputs": [],
   "source": [
    "# Better:\n",
    "colors = pd.read_excel(\"colors.xlsx\")\n",
    "colors"
   ]
  },
  {
   "cell_type": "markdown",
   "id": "a0a98d81-0d31-475d-b5f8-9adbd46cfeeb",
   "metadata": {
    "tags": []
   },
   "source": [
    "### Lesson 4: `pd.merge()` using the dataframe index.\n",
    "\n",
    "If you look at our two data frames:"
   ]
  },
  {
   "cell_type": "code",
   "execution_count": null,
   "id": "4be5574e-fd15-4453-bafb-520b6ae2f7bc",
   "metadata": {
    "tags": []
   },
   "outputs": [],
   "source": [
    "display(snow, colors)"
   ]
  },
  {
   "cell_type": "markdown",
   "id": "b47f117e-521e-44f6-be45-de7f14895f51",
   "metadata": {},
   "source": [
    "Observe they **share a common index.**\n",
    "\n",
    "Meaning:\n",
    "\n",
    "- in `snow` index 1, the **city** `Syracuse` \n",
    "- should match up with `colors` index 1 **place** `2nd`\n",
    "\n",
    "Syracuse came in 2nd place in the golden snowball.\n",
    "\n",
    "We use `left_index=True, right_index=True` to join to dataframes together on their matching indexes."
   ]
  },
  {
   "cell_type": "code",
   "execution_count": 2,
   "id": "c2851fd7-2cfe-4eb9-b9ef-8ce17ed2cd51",
   "metadata": {
    "tags": []
   },
   "outputs": [
    {
     "ename": "NameError",
     "evalue": "name 'pd' is not defined",
     "output_type": "error",
     "traceback": [
      "\u001b[0;31m---------------------------------------------------------------------------\u001b[0m",
      "\u001b[0;31mNameError\u001b[0m                                 Traceback (most recent call last)",
      "Cell \u001b[0;32mIn[2], line 2\u001b[0m\n\u001b[1;32m      1\u001b[0m \u001b[38;5;66;03m# Merge the dataframes on their index.\u001b[39;00m\n\u001b[0;32m----> 2\u001b[0m snow_color \u001b[38;5;241m=\u001b[39m \u001b[43mpd\u001b[49m\u001b[38;5;241m.\u001b[39mmerge(left\u001b[38;5;241m=\u001b[39msnow, right\u001b[38;5;241m=\u001b[39mcolors, left_index\u001b[38;5;241m=\u001b[39m\u001b[38;5;28;01mTrue\u001b[39;00m, right_index\u001b[38;5;241m=\u001b[39m\u001b[38;5;28;01mTrue\u001b[39;00m)\n\u001b[1;32m      3\u001b[0m snow_color\n",
      "\u001b[0;31mNameError\u001b[0m: name 'pd' is not defined"
     ]
    }
   ],
   "source": [
    "# Merge the dataframes on their index.\n",
    "snow_color = pd.merge(left=snow, right=colors, left_index=True, right_index=True)\n",
    "snow_color"
   ]
  },
  {
   "cell_type": "markdown",
   "id": "9fe1a2d8-0f74-4051-af1e-12e3cbefdcd2",
   "metadata": {
    "tags": []
   },
   "source": [
    "### Geocoding\n",
    "\n",
    "To put the city on a map, we must first geocode it to a latitude and longitude pair.\n",
    "\n",
    "We can use the CENT IoT api to do this."
   ]
  },
  {
   "cell_type": "code",
   "execution_count": null,
   "id": "70469dd5-6ab7-4b26-a7d4-0aac8656036a",
   "metadata": {
    "tags": []
   },
   "outputs": [],
   "source": [
    "def geocode(location, apikey):\n",
    "    querystring = {\"location\": location}\n",
    "    url = \"https://cent.ischool-iot.net/api/google/geocode\"\n",
    "    headers = {'X-API-KEY': apikey}\n",
    "    response = requests.get(url, params=querystring, headers=headers)\n",
    "    response.raise_for_status()\n",
    "    data = response.json()\n",
    "    latlon = data['results'][0]['geometry']['location']\n",
    "    return [latlon['lat'], latlon['lng']]\n",
    "\n",
    "geocode(\"Buffalo, NY\", APIKEY)"
   ]
  },
  {
   "cell_type": "markdown",
   "id": "4cd464df-566c-46b1-9593-bea5a34b6c20",
   "metadata": {
    "tags": []
   },
   "source": [
    "### Lesson 5: Using `pd.apply()` to return a DataFrame\n",
    "\n",
    "Here we are returning the lat,lng as a Python `list`. List-like values are required when returing a **DataFrame** from `pd.apply()`.\n",
    "\n",
    "Normally `pd.apply()` returns a **Series** - one column, but here we have two values so we need `pd.apply()` to return a **DataFrame**.\n",
    "\n",
    "Adding the named argument `result_type=expand` creates a new dataframe `coords` in this case. \n"
   ]
  },
  {
   "cell_type": "code",
   "execution_count": null,
   "id": "9e9649b8-bc25-4df6-b489-d49a3e12bb99",
   "metadata": {
    "tags": []
   },
   "outputs": [],
   "source": [
    "# Applying a geocode to each city in the dataframe, making a \n",
    "\n",
    "coords = snow_color.apply(lambda row: geocode(f\"{row['city']}, NY\", APIKEY), axis=1, result_type=\"expand\")\n",
    "coords.columns = [\"lat\",\"lng\"]\n",
    "coords"
   ]
  },
  {
   "cell_type": "markdown",
   "id": "8cb28500-3d02-40e1-a2c5-7e8cb7c168d1",
   "metadata": {},
   "source": [
    "#### Once again we merge on index.\n",
    "\n",
    "The new `coords` dataframe has the same `index` as the  as the `snow_color` dataframe"
   ]
  },
  {
   "cell_type": "code",
   "execution_count": null,
   "id": "4bd4fa85-1f81-4fb5-825c-a4008e28085c",
   "metadata": {
    "tags": []
   },
   "outputs": [],
   "source": [
    "display(snow_color)"
   ]
  },
  {
   "cell_type": "code",
   "execution_count": null,
   "id": "dc4a2b63-6cde-447a-96ce-130d15d4a662",
   "metadata": {
    "tags": []
   },
   "outputs": [],
   "source": [
    "snow_color_coords = pd.merge(left=snow_color, right=coords, left_index=True, right_index=True)\n",
    "snow_color_coords"
   ]
  },
  {
   "cell_type": "markdown",
   "id": "6f8d105f-ad61-42e0-ac86-4397ee3a406e",
   "metadata": {},
   "source": [
    "### And we are done! We have evetything we need to make our map!\n",
    "\n",
    "Remember when making a map finding the `center` and `zoom_start` are going to be some trial and error. There's no easy or automatic way to handle centering your map at the appropriate zoom level."
   ]
  },
  {
   "cell_type": "code",
   "execution_count": null,
   "id": "9755fdae-1d70-41de-9fe1-7ab0547ca4ed",
   "metadata": {
    "tags": []
   },
   "outputs": [],
   "source": [
    "center = (43.03996, -76.13364)\n",
    "m = folium.Map(location=center, zoom_start=9)\n",
    "for index, row in snow_color_coords.iterrows():\n",
    "    hover = f\"{row['city']} {row['place']} {row['total_to_date']}\"\n",
    "    folium.Marker(location=(row['lat'],row['lng']), tooltip=hover, icon=folium.Icon(color=row['color'], icon=\"cloud\")).add_to(m)\n",
    "    \n",
    "display(m)"
   ]
  },
  {
   "cell_type": "markdown",
   "id": "a2c604af-9caa-4921-9f5b-6df3875dd49b",
   "metadata": {
    "tags": []
   },
   "source": [
    "## Putting it all Together\n",
    "\n",
    "Write a program to read `goldensnowball.html` and create the map above. Here's a summary of the algorithm of the final process. This is an example of what you are expected to create in your project where you need an algorithm that outlines the steps at a high level.\n",
    "\n",
    "    INPUT: Golden Snowball Data\n",
    "    USER INPUT: None\n",
    "    OUTPUT: Map of golden snowball winners\n",
    "\n",
    "    1) read and prepare in `goldensnowball.html` as snow\n",
    "        1.1) extract table from HTML\n",
    "        1.2) Remove Empty / NA Data\n",
    "        1.3) rename columns\n",
    "        1.4) Sort \"total_to_date\" desending so most snowfall is first.\n",
    "        1.5) Reset the dataframe index\n",
    "    2) Combine Colors / rankings into snow\n",
    "        2.1) read in colors.csv as colors\n",
    "        2.2) merge colors and snow on matching index as snow_colors\n",
    "    3) Geocoding \n",
    "        3.1) apply the geocode function to snow dataframe of lat/lon to create new dataframe coords\n",
    "        3.2) merge snow_colors and coords on matching index as snow_colors_coords\n",
    "    4) Map\n",
    "        4.1) Create map of NYS\n",
    "        4.2) for each row in snow_color_coords\n",
    "        4.3)     make a pin for the city displaying their rank (1st, 2nd), and color code the pin.\n",
    "        4.4) show the map\n",
    "        \n",
    "\n",
    "### Practice getting it running from a single cell.\n",
    "\n",
    "This helps us figure out your coding and thought process.\n",
    "\n",
    "However, there should **be one single code cell**, clearly identified that will run your entire data story.\n",
    "\n",
    "The expectation is if you restart the kernel and run just the submission cell, the program will execute.\n",
    "\n",
    "\n",
    "import folium\n",
    "import requests\n",
    "from IPython.display import display, HTML\n",
    "APIKEY = \"todoyourapihere\"\n",
    "\n"
   ]
  },
  {
   "cell_type": "code",
   "execution_count": 3,
   "id": "60b91dcb-4714-4cdd-95db-fa3aa15c051e",
   "metadata": {
    "tags": []
   },
   "outputs": [],
   "source": [
    "# TODO: Write final code here\n",
    "\n",
    "# imports\n",
    "\n",
    "# geocode function\n",
    "\n",
    "\n",
    "# main program\n",
    "\n"
   ]
  },
  {
   "cell_type": "code",
   "execution_count": null,
   "id": "2dc40f55-9bd6-49fa-a35f-f2c951fef328",
   "metadata": {},
   "outputs": [],
   "source": []
  },
  {
   "cell_type": "code",
   "execution_count": null,
   "id": "95017f6e-2cc1-466d-808c-9af60b5294a7",
   "metadata": {},
   "outputs": [],
   "source": []
  }
 ],
 "metadata": {
  "kernelspec": {
   "display_name": "Python 3 (ipykernel)",
   "language": "python",
   "name": "python3"
  },
  "language_info": {
   "codemirror_mode": {
    "name": "ipython",
    "version": 3
   },
   "file_extension": ".py",
   "mimetype": "text/x-python",
   "name": "python",
   "nbconvert_exporter": "python",
   "pygments_lexer": "ipython3",
   "version": "3.11.7"
  }
 },
 "nbformat": 4,
 "nbformat_minor": 5
}
