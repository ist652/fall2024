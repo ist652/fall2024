{
 "cells": [
  {
   "cell_type": "markdown",
   "id": "ece16db2-f910-4d33-8b35-88bb2370e601",
   "metadata": {},
   "source": [
    "### GEOPANDAS PRACTICE"
   ]
  },
  {
   "cell_type": "markdown",
   "id": "aff9a8b6-2edf-42e0-b11f-8fcfc1a502ff",
   "metadata": {},
   "source": [
    "Review the following tutorial … https://www.datacamp.com/tutorial/geopandas-tutorial-geospatial-analysis \n",
    "\n",
    "**INSTRUCTIONS**\n",
    "\n",
    "PART 1\n",
    "\n",
    "Using the capitals.csv file \n",
    "1. Read in the csv file as a dataframe\n",
    "2. Create shapely points from the geocoordinates\n",
    "3. Make a geodataframe out of the df and new points\n",
    "4. Confirm the geodataframe that is used is lat/lon \n",
    "\n",
    "---\n",
    "\n",
    "PART 2 \n",
    "Using the states.shp file in the states zip folder \n",
    "\n",
    "1. plot the states\n",
    "2. filter states with populations that are over 20000000 and plot these results. You will need to locate and integrate a suitable dataset. \n"
   ]
  },
  {
   "cell_type": "code",
   "execution_count": null,
   "id": "4b491ae0-8b8e-43a8-a079-d9e1d87b5641",
   "metadata": {},
   "outputs": [],
   "source": []
  },
  {
   "cell_type": "code",
   "execution_count": null,
   "id": "92f2d822-d1b5-4f99-bd41-49e5c5920268",
   "metadata": {},
   "outputs": [],
   "source": []
  },
  {
   "cell_type": "code",
   "execution_count": null,
   "id": "4f7a90c7-1f08-4dc6-b112-71ada9c83544",
   "metadata": {},
   "outputs": [],
   "source": []
  },
  {
   "cell_type": "code",
   "execution_count": null,
   "id": "671125f4-1670-4bc2-ba68-c6614d69b03e",
   "metadata": {},
   "outputs": [],
   "source": []
  },
  {
   "cell_type": "code",
   "execution_count": null,
   "id": "7bdf701f-53fa-40af-98b0-ab6bf9a5882d",
   "metadata": {},
   "outputs": [],
   "source": []
  },
  {
   "cell_type": "code",
   "execution_count": null,
   "id": "628d3bf8-c496-427e-a458-a08b56a6dac4",
   "metadata": {},
   "outputs": [],
   "source": []
  }
 ],
 "metadata": {
  "kernelspec": {
   "display_name": "Python 3 (ipykernel)",
   "language": "python",
   "name": "python3"
  },
  "language_info": {
   "codemirror_mode": {
    "name": "ipython",
    "version": 3
   },
   "file_extension": ".py",
   "mimetype": "text/x-python",
   "name": "python",
   "nbconvert_exporter": "python",
   "pygments_lexer": "ipython3",
   "version": "3.11.7"
  }
 },
 "nbformat": 4,
 "nbformat_minor": 5
}
