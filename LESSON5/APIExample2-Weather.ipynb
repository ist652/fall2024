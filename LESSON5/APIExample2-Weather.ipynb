{
 "cells": [
  {
   "cell_type": "markdown",
   "id": "82a4261c-1383-4dc3-84ce-2053b7709a2a",
   "metadata": {},
   "source": [
    "# End to End Example\n",
    "\n",
    "Real Time temperature across the globe in Python !"
   ]
  },
  {
   "cell_type": "code",
   "execution_count": 1,
   "id": "1190f7a7-044e-42f7-9501-277561534764",
   "metadata": {
    "tags": []
   },
   "outputs": [
    {
     "data": {
      "application/vnd.jupyter.widget-view+json": {
       "model_id": "7e17acbfce414f95af25775a0038e23a",
       "version_major": 2,
       "version_minor": 0
      },
      "text/plain": [
       "interactive(children=(Text(value='', continuous_update=False, description='location'), Button(description='Run…"
      ]
     },
     "metadata": {},
     "output_type": "display_data"
    }
   ],
   "source": [
    "from IPython.display import display\n",
    "from ipywidgets import interact_manual\n",
    "import requests\n",
    "\n",
    "apikey = 'ea044c96950db6cc0fab7ae1'\n",
    "\n",
    "def geocode(location, apikey):\n",
    "    querystring = {\"location\": location}\n",
    "    url = \"https://cent.ischool-iot.net/api/google/geocode\"\n",
    "    headers = {'X-API-KEY': apikey}\n",
    "    response = requests.get(url, params=querystring, headers=headers)\n",
    "    response.raise_for_status()\n",
    "    data = response.json()\n",
    "    latlon = data['results'][0]['geometry']['location']\n",
    "    return latlon\n",
    "\n",
    "def temperature(latlon, apikey, units=\"imperial\"):\n",
    "    querystring = {\n",
    "        'units': 'imperial',\n",
    "        'lat': latlon['lat'],\n",
    "        'lon': latlon['lng']\n",
    "    }\n",
    "    headers = {'X-API-KEY': apikey}\n",
    "    url = \"https://cent.ischool-iot.net/api/weather/current\"\n",
    "    response = requests.get(url, params=querystring, headers=headers)\n",
    "    response.raise_for_status()\n",
    "    weather = response.json()\n",
    "    temp = weather['current']['apparent_temperature']\n",
    "    return temp\n",
    "\n",
    "@interact_manual(location=\"\")\n",
    "def onclick(location):\n",
    "    latlon = geocode(location, apikey)\n",
    "    temp = temperature(latlon, apikey)\n",
    "    print(f\"The current temperature in {location} is {temp} degrees F\")\n"
   ]
  },
  {
   "cell_type": "code",
   "execution_count": null,
   "id": "0710397c-5937-4f80-bd1d-176705c652bc",
   "metadata": {},
   "outputs": [],
   "source": []
  }
 ],
 "metadata": {
  "kernelspec": {
   "display_name": "Python 3 (ipykernel)",
   "language": "python",
   "name": "python3"
  },
  "language_info": {
   "codemirror_mode": {
    "name": "ipython",
    "version": 3
   },
   "file_extension": ".py",
   "mimetype": "text/x-python",
   "name": "python",
   "nbconvert_exporter": "python",
   "pygments_lexer": "ipython3",
   "version": "3.11.7"
  }
 },
 "nbformat": 4,
 "nbformat_minor": 5
}
