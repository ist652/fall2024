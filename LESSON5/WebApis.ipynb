{
 "cells": [
  {
   "cell_type": "markdown",
   "id": "343e6337-3274-4542-adf9-d9a54543a954",
   "metadata": {},
   "source": [
    "# Calling Web API's in Python\n",
    "\n",
    "by Michael Fudge\n",
    "\n",
    "### Contents\n",
    "\n",
    "Part 1. Essentials Before We Code  \n",
    "Part 2. Python Requests  \n",
    "Part 3. Web API Documentation  \n"
   ]
  },
  {
   "cell_type": "markdown",
   "id": "c16d3827-a9d9-4a68-b88f-fc40276537b9",
   "metadata": {},
   "source": [
    "# Part 1. Essentials Before We Code\n",
    "\n",
    "## 1.1 Introduction \n",
    "\n",
    "### What is an API?\n",
    "\n",
    "API stands for **Application Programming Interface**. It is a code-based functionality that accomplishes a task. That task could be text to speech, displaying an IPython widget, or simpling `print()`ing a string. \n",
    "\n",
    "You have been consuming API's all along in this course. Every time we import a Python module we are adding other people's code to our programs, and consuming their API. In addition, the built in Python string functions like `startswith()` and `upper()` are part of Pythons internal API. If we want to convert a string to upper case, we don't have to write that code ourselves, we can just use the built in string API! In addition when you write your own functions you are building your own API, although its limited to interfacing with yourself. \n",
    "\n",
    "What makes Python so great is there are many useful API's built into the language. There is also a website, called the Python Package Index https://pypi.org/ where you can find other API's and then install them into your Python environment using the pip utility.\n",
    "\n",
    "\n",
    "### What is a Web API?\n",
    "\n",
    "Simply put, a **web API** expands on an API by exposing this functionality over the Internet. API's like getting the [current weather](https://open-meteo.com/), [finding a location on the globe](https://nominatim.org/) or using [Chat GPT in your application](https://openai.com/product) are common Web APIs. These types of functions require massive amounts of data and compute capacity, which is impractical to run on our computers and smartphones. Web API's run **in the cloud**, which is a way of saying they are hosted on the Internet.\n",
    "\n",
    "Technologies like smarphone apps and Chat GPT would not be possible without web APIs, as most of the actual \"smartness\" in these technologies runs in the cloud and is exposed to the computer programs on our smartphones as web APIs.\n",
    "\n",
    "**In the simplest of terms, and API can be thought of as a function call. Therefore think of a web api as making that same function call over the internet.**\n",
    "\n",
    "#### Evolution of the web API\n",
    "\n",
    "Initially, the web focused on the direct user-consumption of information. We used a browser and search engine to get the news, sports scores, watch youtube or get the latest weather forecast. We did not need web API's because all of this consumption took place in a web browser, and the services we used could just send us HTML, which our browser rendered into nice looking webpages.\n",
    "\n",
    "The emergence of smart devices like watches, phones, media players, and intelligent speakers has caused a shift in the web from user-based to device-based. Most of the information we consume nowadays is no longer in a browser, but instead on a variety of devices. We watch movies on our Roku players, check the news and sports scores on our smart phones, or get weather reports from Alexa. For example:\n",
    "\n",
    "- When we use an app on our smartphone to get stock quotes, a web API is delivering data to the app on our phone. The app is then displaying the information on our screen.\n",
    "- When we ask Alexa to play a song, Web API will search for the the song (on Spotify for example) and return back information about the song including how the speaker can play it.\n",
    "\n",
    "You might think you need to know a lot about networking to call a web API, but actually **HTTP (Hyptertext Transport Protocol)** handles most of the details for you. HTTP is the protocol that makes the web work. You do need to understand some basics of HTTP in order to correctly consume web API's.\n"
   ]
  },
  {
   "cell_type": "markdown",
   "id": "9401dbd8-4080-4a21-85e0-1bb6e695cf20",
   "metadata": {},
   "source": [
    "## 1.2 Understanding HTTP\n",
    "\n",
    "The Hyptertext Transport Protocol (HTTP) is the means by which hosts on the web communicate. Within the context of a web API, it is the mechanisim by which the API is called. Using web standards this way is smart because it means someone can program the web API in one language but it can be used in a different language.  The communication occurs in a request/response pair.\n",
    "\n",
    "- An **HTTP request** is sent by the client to the cloud and consists of a **URL** or Uniform Resource Locator, a **HTTP Verb**, and forms of input like a **Query String**, **Body**, or **Headers**.\n",
    "- An **HTTP response** is sent from the cloud to the client and consists of a **Status Code** and a **Response Body**\n",
    "\n",
    "\n",
    "Let's break down these components, using the same anology of **input -> process -> output.** and the metaphors we know from function calls.\n",
    "\n",
    "### HTTP Request (Calling the web API)\n",
    "\n",
    "The **HTTP Request** this is the equivalent of initiating a function call, only the function you're calling is in the cloud! The request components consist of a **URL**, a **HTTP Verb**, and one or more inputs **Query String**, **Body**, or **Headers**.\n",
    "\n",
    "#### URL\n",
    "\n",
    "**URL** A URL (Uniform Resource Locator) consists of the name of the cloud resource we wish to access. This is equivalent to the name of the function you wish to call, like `pd.json_normalize()` or `split()`.  In the case of web APIs, they look like websites, for example: [https://api.tvmaze.com/search/shows](https://api.tvmaze.com/search/shows) to search TV shows, or [https://api.openweathermap.org/data/3.0/onecall](https://api.openweathermap.org/data/3.0/onecall) to get the current weather.\n",
    "\n",
    "#### HTTP Verb\n",
    "\n",
    "\n",
    "**HTTP Verb** have no analogy to a traditional function call. The HTTP Verb specifies how the cloud resource should be called. There are limitations on how much data you can send over the internet based on HTTP verb. Common verbs are:\n",
    "\n",
    "- `GET` - request a resource, sending minimal amounts of data as input. For example you might send the name of the tv show you wish to search for or the city for which you'd like the weather.\n",
    "- `POST` - request a resource, sending a significant amount of data as input. For example you might send a PDF and a question to Chat GPT's api and ask it to answer your question based on the contents of the PDF.\n",
    "\n",
    "There are other verbs like `PUT`, `DELETE`, and `PATCH`, which you likely will not encounter in this course. \n",
    "\n",
    "#### Inputs: Query String, Body and Headers\n",
    "\n",
    "There are three places where you can send INPUT into your HTTP request. Any request can use none or all of these forms of input.\n",
    "\n",
    "- **Query String**  - Also known as **parameters**, these are a set of key/value pairs (think Python `dict`) on the URL.  For example to search for the simpsons tv show: [https://api.tvmaze.com/search/shows?q=simpsons](https://api.tvmaze.com/search/shows?q=simpsons) This is the most common method of sending inputs to a Web API.\n",
    "- **Body** - Body is used during a `POST` to send large amounts of data to the web API. You will not see the data in the URL. Body formats can be binary, JSON, or text.\n",
    "- **Headers** - The headers are another set of key/value pairs (Python `dict`). Unlike the query string, the headers do not appear on the URL. Typically access permissions are sent in the headers to inform the web API you are allowed to use it. \n",
    "\n",
    "\n",
    "### HTTP Response (Result of calling the API)\n",
    "\n",
    "After you send the HTTP Request, you will get back an **HTTP response**. Consider this the values being `return`ed from the function call. The HTTP response consists of a **Status Code** and the response body itself, which will be binary (and image, for example), JSON or text. This will depend on the web API, of course.\n",
    "\n",
    "\n",
    "#### **Status Codes**\n",
    "\n",
    "When the server returns a response to a request, included in the response is the HTTP status code, which tells the client whether or not the request worked. Unlike a regular API / function call such as `print()` this is necessary because there is a lot that can go wrong.  Status codes are 3 digit numbers and the first number indicates the type of response:\n",
    "\n",
    "- `1xx` - codes are informational. These are seldom used in web APIs.\n",
    "- `2xx` - codes which begin with a 2 indicate success. The most common code is `200` - OK.\n",
    "- `3xx` - codes which begin with a 3 indicate redirection - the response is not comming from the request URL you requested. For example a `304` - Not modified means your response is coming from the browser's cache (content already downloaded).\n",
    "- `4xx` - codes which begin with a 4 indicate a client error. The most common code here is `404` - Not Found. Any `4xx` errors mean the requestor did something wrong. (In this case, that's you!)\n",
    "- `5xx` - codes which begin with a 5 indicate a server error. The most common code here is `500` - Internal server error, which indicates the server could not process the request. When this happens it could be the web API's problem or the way you made the request.\n",
    "\n",
    "You can learn more here: https://developer.mozilla.org/en-US/docs/Web/HTTP/Status\n",
    "\n",
    "#### **Response body**\n",
    "\n",
    "Finally, the body of the response contains the information you requested: The weather, Chat GPT's response, etc... \n",
    "\n",
    "This could be several formats, commonly binary (an image, for example), text, or JSON. If you click on this link: [https://api.tvmaze.com/search/shows?q=simpsons](https://api.tvmaze.com/search/shows?q=simpsons) you will make a web API request and see the response in your browser. This response is in JSON format. \n",
    "\n"
   ]
  },
  {
   "cell_type": "markdown",
   "id": "43719367-fb08-4a17-a7e9-6da37211448e",
   "metadata": {},
   "source": [
    "# Part 2: Python Requests\n",
    "\n",
    "To call web API's with Python we will use the Requests module. You can learn more about it here. https://pypi.org/project/requests/ Requests is a wrapper on the base Python libraries `urlib3` and makes it a lot easier to work with HTTP.\n"
   ]
  },
  {
   "cell_type": "code",
   "execution_count": 2,
   "id": "3cb203d7-72a7-4b5f-ac3a-91186ad3435e",
   "metadata": {
    "tags": []
   },
   "outputs": [],
   "source": [
    "import requests\n",
    "\n",
    "# import pandas, we will need it later\n",
    "import pandas as pd"
   ]
  },
  {
   "cell_type": "markdown",
   "id": "64d3198e-3df8-4791-b7c6-2830d059b7e8",
   "metadata": {},
   "source": [
    "## An Algorithm for every request\n",
    "\n",
    "Its time to put all this information to use, and learn to call a web API in python.  **Good news: the algorithm to call any web api is the same, regardless of the API.** Before you can write the code, you must learn what is necessary to call the Web API: Is it a `GET`? `POST`? Do you need a header? Querystring? API Docs help here. \n",
    "\n",
    "Algorithm:\n",
    "\n",
    "    1. Setup the inputs, if any (QueryString dictionary, Header dictionary, or Body)\n",
    "    2. Make the GET or POST request to the URL\n",
    "    3. Raise an exception if an invalid response\n",
    "    4. When you are here the response body is valid, proceed...\n",
    "    \n",
    "\n",
    "## Explained Example\n",
    "\n",
    "Let's call the Funny Names API an search for names that begin with a \"B\". Here is the url and query string: https://cent.ischool-iot.net/api/funnyname/search?q=b If you click the link you can see the output is in JSON format.\n",
    "\n",
    "Here's the code to make the request:"
   ]
  },
  {
   "cell_type": "code",
   "execution_count": 3,
   "id": "e64d4db1-915d-4557-964e-4dde12f3c2fc",
   "metadata": {
    "tags": []
   },
   "outputs": [
    {
     "name": "stdout",
     "output_type": "stream",
     "text": [
      "https://cent.ischool-iot.net/api/funnyname/search?q=b\n",
      "[{'first': 'Barb', 'last': 'Dwyer'}, {'first': 'Barb', 'last': 'Barion'}, {'first': 'Barry', 'last': 'DeHatchett'}, {'first': 'Barry', 'last': 'Mii'}, {'first': 'Basil', 'last': 'Leif'}, {'first': 'Bette', 'last': 'Alott'}, {'first': 'Bette', 'last': 'Itall'}, {'first': 'Bill', 'last': 'Melator'}, {'first': 'Bill', 'last': 'Islate'}, {'first': 'Blanche', 'last': 'Dalmonds'}, {'first': 'Bo', 'last': 'Enarreau'}, {'first': 'Bob', 'last': 'Enweave'}, {'first': 'Brayden', 'last': 'Yourhair'}, {'first': 'Brayden', 'last': 'Hair'}, {'first': 'Buck', 'last': 'Naked'}, {'first': 'Buck', 'last': 'Annaquarter'}]\n"
     ]
    }
   ],
   "source": [
    "# 1. Setup the inputs  Dictionary of key/values for the query string.\n",
    "query_string = {'q': 'b'} \n",
    "\n",
    "# the function on the internet we are calling\n",
    "url = \"https://cent.ischool-iot.net/api/funnyname/search\" \n",
    "\n",
    "# 2. Make the GET request to the URL, make sure to add the query string\n",
    "response = requests.get(url, params = query_string)\n",
    "\n",
    "# Let's print the response.url to see the actual url we requested \n",
    "print(response.url)\n",
    "\n",
    "#3. Raise an exception if an invalid response\n",
    "response.raise_for_status()\n",
    "\n",
    "#4 if you make it here the response body in valid\n",
    "# Since its JSON format, we deserialize it\n",
    "names = response.json()\n",
    "\n",
    "# now we have a Python object represnting the JSON. we can display it\n",
    "print(names)"
   ]
  },
  {
   "cell_type": "markdown",
   "id": "f5c894ab-c5d5-41bf-b115-36885318e3f1",
   "metadata": {
    "tags": []
   },
   "source": [
    "## Same Example\n",
    "\n",
    "One more time, without all the ceremony. This time we search for funny names beginning with \"Mac\"\n",
    "\n",
    "This code is most likely how your requests will look. In addition this example uses `pandas` and `json_normalize()` to display the API output in a dataframe."
   ]
  },
  {
   "cell_type": "code",
   "execution_count": 4,
   "id": "374540a9-aaf4-4065-a641-6c1b64cd61a0",
   "metadata": {
    "tags": []
   },
   "outputs": [
    {
     "data": {
      "text/html": [
       "<div>\n",
       "<style scoped>\n",
       "    .dataframe tbody tr th:only-of-type {\n",
       "        vertical-align: middle;\n",
       "    }\n",
       "\n",
       "    .dataframe tbody tr th {\n",
       "        vertical-align: top;\n",
       "    }\n",
       "\n",
       "    .dataframe thead th {\n",
       "        text-align: right;\n",
       "    }\n",
       "</style>\n",
       "<table border=\"1\" class=\"dataframe\">\n",
       "  <thead>\n",
       "    <tr style=\"text-align: right;\">\n",
       "      <th></th>\n",
       "      <th>first</th>\n",
       "      <th>last</th>\n",
       "    </tr>\n",
       "  </thead>\n",
       "  <tbody>\n",
       "    <tr>\n",
       "      <th>0</th>\n",
       "      <td>Mac</td>\n",
       "      <td>Arronne</td>\n",
       "    </tr>\n",
       "    <tr>\n",
       "      <th>1</th>\n",
       "      <td>Mac</td>\n",
       "      <td>Donalds</td>\n",
       "    </tr>\n",
       "    <tr>\n",
       "      <th>2</th>\n",
       "      <td>Mac</td>\n",
       "      <td>Intosh</td>\n",
       "    </tr>\n",
       "  </tbody>\n",
       "</table>\n",
       "</div>"
      ],
      "text/plain": [
       "  first     last\n",
       "0   Mac  Arronne\n",
       "1   Mac  Donalds\n",
       "2   Mac   Intosh"
      ]
     },
     "execution_count": 4,
     "metadata": {},
     "output_type": "execute_result"
    }
   ],
   "source": [
    "query_string = {'q': 'Mac'} \n",
    "url = \"https://cent.ischool-iot.net/api/funnyname/search\" \n",
    "response = requests.get(url, params = query_string)\n",
    "response.raise_for_status()\n",
    "names = response.json()\n",
    "df = pd.json_normalize(names)\n",
    "df"
   ]
  },
  {
   "cell_type": "markdown",
   "id": "9d784e99-e712-4ec2-96c7-56577608c933",
   "metadata": {},
   "source": [
    "## Understanding Errors / `raise_for_status()`\n",
    "\n",
    "At this point you might be unclear as to what `raise_for_status()` is doing. Essentially it is checking the `response.status_code` if the code is not `2xx` it throws an exception.\n",
    "\n",
    "### `4xx` Errors are your fault!\n",
    "\n",
    "Let's do an example. Here we call the funny names search without passing in a `q` argument on the query string. Here we get an `HTTPError: 400`.`4xx` indicated I did not call the web API correctly.\n"
   ]
  },
  {
   "cell_type": "code",
   "execution_count": 5,
   "id": "3d5b76ee-20e3-4283-95e4-c5fd9360f888",
   "metadata": {
    "tags": []
   },
   "outputs": [
    {
     "ename": "HTTPError",
     "evalue": "400 Client Error: BAD REQUEST for url: https://cent.ischool-iot.net/api/funnyname/search",
     "output_type": "error",
     "traceback": [
      "\u001b[0;31m---------------------------------------------------------------------------\u001b[0m",
      "\u001b[0;31mHTTPError\u001b[0m                                 Traceback (most recent call last)",
      "Cell \u001b[0;32mIn[5], line 3\u001b[0m\n\u001b[1;32m      1\u001b[0m url \u001b[38;5;241m=\u001b[39m \u001b[38;5;124m\"\u001b[39m\u001b[38;5;124mhttps://cent.ischool-iot.net/api/funnyname/search\u001b[39m\u001b[38;5;124m\"\u001b[39m \n\u001b[1;32m      2\u001b[0m response \u001b[38;5;241m=\u001b[39m requests\u001b[38;5;241m.\u001b[39mget(url) \u001b[38;5;66;03m# <== No query string!\u001b[39;00m\n\u001b[0;32m----> 3\u001b[0m \u001b[43mresponse\u001b[49m\u001b[38;5;241;43m.\u001b[39;49m\u001b[43mraise_for_status\u001b[49m\u001b[43m(\u001b[49m\u001b[43m)\u001b[49m\n\u001b[1;32m      4\u001b[0m names \u001b[38;5;241m=\u001b[39m response\u001b[38;5;241m.\u001b[39mjson()\n\u001b[1;32m      5\u001b[0m df \u001b[38;5;241m=\u001b[39m pd\u001b[38;5;241m.\u001b[39mjson_normalize(names)\n",
      "File \u001b[0;32m/opt/conda/lib/python3.11/site-packages/requests/models.py:1021\u001b[0m, in \u001b[0;36mResponse.raise_for_status\u001b[0;34m(self)\u001b[0m\n\u001b[1;32m   1016\u001b[0m     http_error_msg \u001b[38;5;241m=\u001b[39m (\n\u001b[1;32m   1017\u001b[0m         \u001b[38;5;124mf\u001b[39m\u001b[38;5;124m\"\u001b[39m\u001b[38;5;132;01m{\u001b[39;00m\u001b[38;5;28mself\u001b[39m\u001b[38;5;241m.\u001b[39mstatus_code\u001b[38;5;132;01m}\u001b[39;00m\u001b[38;5;124m Server Error: \u001b[39m\u001b[38;5;132;01m{\u001b[39;00mreason\u001b[38;5;132;01m}\u001b[39;00m\u001b[38;5;124m for url: \u001b[39m\u001b[38;5;132;01m{\u001b[39;00m\u001b[38;5;28mself\u001b[39m\u001b[38;5;241m.\u001b[39murl\u001b[38;5;132;01m}\u001b[39;00m\u001b[38;5;124m\"\u001b[39m\n\u001b[1;32m   1018\u001b[0m     )\n\u001b[1;32m   1020\u001b[0m \u001b[38;5;28;01mif\u001b[39;00m http_error_msg:\n\u001b[0;32m-> 1021\u001b[0m     \u001b[38;5;28;01mraise\u001b[39;00m HTTPError(http_error_msg, response\u001b[38;5;241m=\u001b[39m\u001b[38;5;28mself\u001b[39m)\n",
      "\u001b[0;31mHTTPError\u001b[0m: 400 Client Error: BAD REQUEST for url: https://cent.ischool-iot.net/api/funnyname/search"
     ]
    }
   ],
   "source": [
    "url = \"https://cent.ischool-iot.net/api/funnyname/search\" \n",
    "response = requests.get(url) # <== No query string!\n",
    "response.raise_for_status()\n",
    "names = response.json()\n",
    "df = pd.json_normalize(names)\n",
    "df"
   ]
  },
  {
   "cell_type": "markdown",
   "id": "2ddfcd51-eb4e-4b63-b2ba-c3f22397cf19",
   "metadata": {
    "tags": []
   },
   "source": [
    "Raising an exception on line 3 is a good thing!  If we continued to process the code lines 4 or 5 would be an error (because we didn't recieve what we *expected*) and this would be confusing to troubleshoot.\n",
    "\n",
    "We can verify the errors by printing the `response.status_code` we can also look at the `response.text` to see the actual error message from the web API:\n"
   ]
  },
  {
   "cell_type": "code",
   "execution_count": 6,
   "id": "cec5f58b-68b1-4054-b082-6d4ac40ba317",
   "metadata": {
    "tags": []
   },
   "outputs": [
    {
     "name": "stdout",
     "output_type": "stream",
     "text": [
      "Status Code: 400\n",
      "Response: error: Query parameter 'q' is required\n"
     ]
    }
   ],
   "source": [
    "print(\"Status Code:\", response.status_code)\n",
    "print(\"Response:\", response.text)"
   ]
  },
  {
   "cell_type": "markdown",
   "id": "eac0b40d-6f18-4eeb-8ec9-a2ef7a2f3098",
   "metadata": {},
   "source": [
    "### `5xx` Errors are NOT your fault!\n",
    "\n",
    "While you may have *caused* the `5xx` error, its not your fault. The programmers of the API likely didn't anticipate your error well enough to communicate the proper response.\n",
    "\n",
    "Let's do an example.\n",
    "\n",
    "Here, we call the https://cent.ischool-iot.net/api/funnyname/random web API, which returns a funny name at random.\n",
    "\n",
    "If you want 5 random names, you would write https://cent.ischool-iot.net/api/funnyname/random?n=5 \n",
    "\n",
    "This is not the correct way to call the API: https://cent.ischool-iot.net/api/funnyname/random?n=five \n",
    "\n",
    "The web API is expecting a number, but your professor (the programmer of the web API) intentionally did not handle this error. Let's see what happens:"
   ]
  },
  {
   "cell_type": "code",
   "execution_count": 15,
   "id": "249c87b5-fbeb-4be9-ba9a-80b513ee2d30",
   "metadata": {
    "tags": []
   },
   "outputs": [
    {
     "ename": "HTTPError",
     "evalue": "500 Server Error: INTERNAL SERVER ERROR for url: https://cent.ischool-iot.net/api/funnyname/random?n=five",
     "output_type": "error",
     "traceback": [
      "\u001b[0;31m---------------------------------------------------------------------------\u001b[0m",
      "\u001b[0;31mHTTPError\u001b[0m                                 Traceback (most recent call last)",
      "Cell \u001b[0;32mIn[15], line 4\u001b[0m\n\u001b[1;32m      2\u001b[0m url \u001b[38;5;241m=\u001b[39m \u001b[38;5;124m\"\u001b[39m\u001b[38;5;124mhttps://cent.ischool-iot.net/api/funnyname/random\u001b[39m\u001b[38;5;124m\"\u001b[39m \n\u001b[1;32m      3\u001b[0m response \u001b[38;5;241m=\u001b[39m requests\u001b[38;5;241m.\u001b[39mget(url, params \u001b[38;5;241m=\u001b[39m query_string)\n\u001b[0;32m----> 4\u001b[0m \u001b[43mresponse\u001b[49m\u001b[38;5;241;43m.\u001b[39;49m\u001b[43mraise_for_status\u001b[49m\u001b[43m(\u001b[49m\u001b[43m)\u001b[49m\n\u001b[1;32m      5\u001b[0m names \u001b[38;5;241m=\u001b[39m response\u001b[38;5;241m.\u001b[39mjson()\n\u001b[1;32m      6\u001b[0m df \u001b[38;5;241m=\u001b[39m pd\u001b[38;5;241m.\u001b[39mjson_normalize(names)\n",
      "File \u001b[0;32m/opt/conda/lib/python3.11/site-packages/requests/models.py:1021\u001b[0m, in \u001b[0;36mResponse.raise_for_status\u001b[0;34m(self)\u001b[0m\n\u001b[1;32m   1016\u001b[0m     http_error_msg \u001b[38;5;241m=\u001b[39m (\n\u001b[1;32m   1017\u001b[0m         \u001b[38;5;124mf\u001b[39m\u001b[38;5;124m\"\u001b[39m\u001b[38;5;132;01m{\u001b[39;00m\u001b[38;5;28mself\u001b[39m\u001b[38;5;241m.\u001b[39mstatus_code\u001b[38;5;132;01m}\u001b[39;00m\u001b[38;5;124m Server Error: \u001b[39m\u001b[38;5;132;01m{\u001b[39;00mreason\u001b[38;5;132;01m}\u001b[39;00m\u001b[38;5;124m for url: \u001b[39m\u001b[38;5;132;01m{\u001b[39;00m\u001b[38;5;28mself\u001b[39m\u001b[38;5;241m.\u001b[39murl\u001b[38;5;132;01m}\u001b[39;00m\u001b[38;5;124m\"\u001b[39m\n\u001b[1;32m   1018\u001b[0m     )\n\u001b[1;32m   1020\u001b[0m \u001b[38;5;28;01mif\u001b[39;00m http_error_msg:\n\u001b[0;32m-> 1021\u001b[0m     \u001b[38;5;28;01mraise\u001b[39;00m HTTPError(http_error_msg, response\u001b[38;5;241m=\u001b[39m\u001b[38;5;28mself\u001b[39m)\n",
      "\u001b[0;31mHTTPError\u001b[0m: 500 Server Error: INTERNAL SERVER ERROR for url: https://cent.ischool-iot.net/api/funnyname/random?n=five"
     ]
    }
   ],
   "source": [
    "query_string = {'n': 'five'} \n",
    "url = \"https://cent.ischool-iot.net/api/funnyname/random\" \n",
    "response = requests.get(url, params = query_string)\n",
    "response.raise_for_status()\n",
    "names = response.json()\n",
    "df = pd.json_normalize(names)\n",
    "df"
   ]
  },
  {
   "cell_type": "markdown",
   "id": "c625d3f5-1718-493e-b468-c18df7383a1a",
   "metadata": {},
   "source": [
    "These kinds of errors are difficult to troubleshoot because once again, its \"not your fault\" and you have little control over what can be done about it.\n",
    "\n",
    "A better error would be a 400 with a message of \"must be a number\", but since your professor didn't write that code, the web API raised an exception and you see a 500 error."
   ]
  },
  {
   "cell_type": "code",
   "execution_count": 16,
   "id": "5e4ef17c-7ef1-42b1-82f7-c229206820f9",
   "metadata": {
    "tags": []
   },
   "outputs": [
    {
     "name": "stdout",
     "output_type": "stream",
     "text": [
      "Status Code: 500\n",
      "Response: <!doctype html>\n",
      "<html lang=en>\n",
      "<title>500 Internal Server Error</title>\n",
      "<h1>Internal Server Error</h1>\n",
      "<p>The server encountered an internal error and was unable to complete your request. Either the server is overloaded or there is an error in the application.</p>\n",
      "\n"
     ]
    }
   ],
   "source": [
    "print(\"Status Code:\", response.status_code)\n",
    "print(\"Response:\", response.text)"
   ]
  },
  {
   "cell_type": "markdown",
   "id": "7cbaece4-d75c-4524-adb1-b60a11114d0c",
   "metadata": {},
   "source": [
    "# Part 3: Web API Documentation\n",
    "\n",
    "Coding a web API call is easy. Knowing what the API needs make the request and what the format of the response is going to be represents the true challenge. Good thing most web API's have documentation. For example here's the documentation for the TvMaze API https://www.tvmaze.com/api \n",
    "\n",
    "If you are programming a web API, and you want others to actually use it, then you will need documentation. This is so common there is a standard for web API documentation: https://www.openapis.org/ and the most common implementation is called Swagger: https://swagger.io/ \n",
    "\n",
    "## Web API's are always changing\n",
    "\n",
    "Web API's are constantly changing. This makes it difficult to teach them in practice. One semester they are free, another they are not. One semester that's an HTTP GET with no header, the next semester its an HTTP POST with API keys in the header. To make things easier on you can consistent from term to term, you professor wrapped some common API's we use in this course.\n",
    "\n",
    "## CENT IoT portal\n",
    "\n",
    "The CENT (Center for Emerging Network Technologies) IoT portal is a website your professor setup to make it easier to handle IoT (internet of things) devices. These devices usually do not have the creature comforts found in normal computers like clocks, calendars and random number generators. So many IoT applications need to use a web API just to know what time some device took a temperature reading, for example.\n",
    "\n",
    "In this class we will use the IoT portal as our primary means of using API's. You can log into the portal with your SU NetID here:\n",
    "\n",
    "[https://cent.ischool-iot.net/](https://cent.ischool-iot.net/)\n",
    "\n",
    "Every student gets 250 API requests / day which should be more than enough for most purposes in the course. In addition you are given an API key.\n",
    "\n",
    "### Your API Key\n",
    "\n",
    "Your API Key permits you to use the API. It also tracks your daily usage. You will need to include your Api Key in every request you make to the IoT portal. Your API key is placed in the HTTP headers.  Here's an example to get the current time using the IoT portal and your API key.\n"
   ]
  },
  {
   "cell_type": "code",
   "execution_count": 8,
   "id": "76ce1091-a338-4077-86c7-164141a96d97",
   "metadata": {
    "tags": []
   },
   "outputs": [
    {
     "name": "stdout",
     "output_type": "stream",
     "text": [
      "1713837589.488932\n",
      "\n"
     ]
    }
   ],
   "source": [
    "headers = { \"X-API-KEY\" : \"e4817f2223fc521129078fbf\" }\n",
    "url = \"https://cent.ischool-iot.net/api/time/timestamp\"\n",
    "response = requests.get(url, headers=headers)\n",
    "response.raise_for_status()\n",
    "time = response.text\n",
    "print(time)"
   ]
  },
  {
   "cell_type": "markdown",
   "id": "cde4f8d9-ba23-4a23-9758-f9b999fdf5dd",
   "metadata": {},
   "source": [
    "**IMPORTANT:** Keep your API Keys safe. Do not share them with anyone. If someone has your API keys they can call web API's on your behalf. this can cost you money when the API is not free.\n",
    "\n",
    "### Swagger Docs\n",
    "\n",
    "The Swagger documentation can be found here: https://cent.ischool-iot.net/doc \n",
    "\n",
    "You can also **Try Out** the web API's right from the documentation to get a sense of how the works and what kinds of information it provides.\n",
    "\n",
    "\n",
    "### Useful Services in the IoT Portal\n",
    "\n",
    "Here's a list of the useful services in the IoT portal. There are more but these are most practical for this course.\n",
    "\n",
    "#### Google Places API: \n",
    "\n",
    "Google places API helps you locate places on the globe, get directions, find addresses, and more. These services can help you geocode, find nearby places and get directions.\n",
    "\n",
    "- `/api/google/geocode`: Using Google, get latitude / longitude and google place id from an input location\n",
    "- `/api/google/places/details`: get specifics about a place using the google place id\n",
    "- `/api/google/places/directions`: get directions (walking / driving / biking) from one place_id to another\n",
    "- `/api/google/places/search`: specific search for places\n",
    "- `/api/google/places/textsearct`: a free form search for places. e.g pizza places in brooklyn\n",
    "- `/api/google/reversegeocode`: given a latitude / longitude find the nearest google places\n",
    "\n",
    "#### Azure AI API: \n",
    "\n",
    "The Azure AI services let you extract useful information from text. These services can analyze text for meaning and intent, or help identify and extract common values.\n",
    "\n",
    "- `/api/azure/entityrecognition`: Identify and extract entities such as emails, places, people, and URLs from the input text.\n",
    "- `/api/azure/keyphrasextration`: Identify and extract key phrases from a large input of text.\n",
    "- `/api/azure/languagedetection`: Identify the written language of the input text.\n",
    "- `/api/azure/sentiment`: Derive sentiment / mood from the input text. \n",
    "\n",
    "#### Open Meteo  Weather API: \n",
    "\n",
    "- `/api/weather/current`: Get the current weather conditions at a geocoded latitude / longitude\n",
    "- `/api/weather/forecast`: Get the n day weather forecast at a geocoded latitude / longitude\n",
    "- `/api/weather/historical`: Get a daily history of weather between the date ranges provided a geocoded latitude / longitude\n",
    "\n",
    "\n",
    "#### Email: \n",
    "\n",
    "- `/api/email/send`:  Send an text-only email. The email will always be FROM the owner of the API key. "
   ]
  },
  {
   "cell_type": "code",
   "execution_count": null,
   "id": "8c72d84f-0e4e-438e-af9b-e94c31c25d95",
   "metadata": {},
   "outputs": [],
   "source": []
  }
 ],
 "metadata": {
  "kernelspec": {
   "display_name": "Python 3 (ipykernel)",
   "language": "python",
   "name": "python3"
  },
  "language_info": {
   "codemirror_mode": {
    "name": "ipython",
    "version": 3
   },
   "file_extension": ".py",
   "mimetype": "text/x-python",
   "name": "python",
   "nbconvert_exporter": "python",
   "pygments_lexer": "ipython3",
   "version": "3.11.7"
  }
 },
 "nbformat": 4,
 "nbformat_minor": 5
}
