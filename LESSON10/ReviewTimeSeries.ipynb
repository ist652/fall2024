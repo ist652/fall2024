{
 "cells": [
  {
   "cell_type": "markdown",
   "id": "30304c72-2ac1-42e1-98a0-3f5f8eeef683",
   "metadata": {},
   "source": [
    "## PANDAS TIME SERIES ANALYSIS"
   ]
  },
  {
   "cell_type": "markdown",
   "id": "db4a8a21-52ee-4ba0-a4a9-9085c53d8056",
   "metadata": {},
   "source": [
    "### QUESTION 1\n",
    "\n",
    "- Review the dataset aapl.csv. What is the dataset about?\n",
    "- Create a new notebook file \n",
    "- Read in the aapl.csv file \n"
   ]
  },
  {
   "cell_type": "code",
   "execution_count": null,
   "id": "43a7b614-cc53-4422-85de-f37404a84eaf",
   "metadata": {},
   "outputs": [],
   "source": []
  },
  {
   "cell_type": "markdown",
   "id": "2c702c57-8df9-4bce-875c-9164fd737cbf",
   "metadata": {},
   "source": [
    "### QUESTION 2\n",
    "- Describe the characteristics of the dataset"
   ]
  },
  {
   "cell_type": "code",
   "execution_count": null,
   "id": "708d63db-644d-4b7b-9833-b7122eca412a",
   "metadata": {},
   "outputs": [],
   "source": []
  },
  {
   "cell_type": "markdown",
   "id": "d510e7c1-7859-4ea1-84ba-32a6dc52e0e4",
   "metadata": {},
   "source": [
    "### QUESTION 3"
   ]
  },
  {
   "cell_type": "markdown",
   "id": "665534a5-3ff3-4653-a819-2ef3235c307b",
   "metadata": {},
   "source": [
    "- Separate the datetime into two columns. Label appropriately. For example date and time\n",
    "- Set the date column as an index. What is the benefits of indexing by date?\n",
    "- June 2020 stock prices using the date index\n",
    "- Find the average price of the stock in June 2020\n"
   ]
  },
  {
   "cell_type": "markdown",
   "id": "134d58da-74d5-4ae6-9c53-c2d74d766974",
   "metadata": {
    "tags": []
   },
   "source": [
    "### QUESTION 4\n",
    "\n",
    "- Check for stationarity\n",
    "- Does this dataset display stationarity? \n"
   ]
  },
  {
   "cell_type": "code",
   "execution_count": null,
   "id": "d2e50976-6b5e-428b-83a5-83b099a770f0",
   "metadata": {},
   "outputs": [],
   "source": []
  },
  {
   "cell_type": "markdown",
   "id": "1cc4b5a3-ed67-42a1-98c6-c78532bd01a4",
   "metadata": {},
   "source": [
    "### QUESTION 5\n",
    "\n",
    "#### Use multiple code cells\n",
    "\n",
    "- What is the mean of monthly stock for 2020? Use the resample function.\n",
    "- Plot monthly means as a line chart\n",
    "- Modify means to weekly stock. \n",
    "- Plot weekly means as a bar chart\n"
   ]
  },
  {
   "cell_type": "code",
   "execution_count": null,
   "id": "e3575eac-359b-46c7-b477-d49493a99f51",
   "metadata": {},
   "outputs": [],
   "source": []
  },
  {
   "cell_type": "code",
   "execution_count": null,
   "id": "9ee7959f-51f8-4d09-88d1-e58134460b35",
   "metadata": {},
   "outputs": [],
   "source": []
  },
  {
   "cell_type": "code",
   "execution_count": null,
   "id": "658ac441-36ba-48f8-8cb9-5a729316e3f5",
   "metadata": {},
   "outputs": [],
   "source": []
  },
  {
   "cell_type": "code",
   "execution_count": null,
   "id": "33a38b68-2bcc-4b11-83fa-43993673d678",
   "metadata": {},
   "outputs": [],
   "source": []
  },
  {
   "cell_type": "code",
   "execution_count": null,
   "id": "02d745e8-0e07-4156-a6ce-afd6028edded",
   "metadata": {},
   "outputs": [],
   "source": []
  },
  {
   "cell_type": "code",
   "execution_count": null,
   "id": "f610d682-549b-4178-833d-244d3839979d",
   "metadata": {},
   "outputs": [],
   "source": []
  }
 ],
 "metadata": {
  "kernelspec": {
   "display_name": "Python 3 (ipykernel)",
   "language": "python",
   "name": "python3"
  },
  "language_info": {
   "codemirror_mode": {
    "name": "ipython",
    "version": 3
   },
   "file_extension": ".py",
   "mimetype": "text/x-python",
   "name": "python",
   "nbconvert_exporter": "python",
   "pygments_lexer": "ipython3",
   "version": "3.11.7"
  }
 },
 "nbformat": 4,
 "nbformat_minor": 5
}
