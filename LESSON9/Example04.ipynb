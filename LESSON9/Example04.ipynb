{
 "cells": [
  {
   "cell_type": "markdown",
   "id": "e6b76e4f-e5a0-4e07-8658-1f3f37071e98",
   "metadata": {},
   "source": [
    "### Example 4 - Categorical Data "
   ]
  },
  {
   "cell_type": "code",
   "execution_count": 1,
   "id": "fb780e03-4cd1-47cb-a739-6d33ac871a94",
   "metadata": {
    "tags": []
   },
   "outputs": [
    {
     "data": {
      "text/html": [
       "<div>\n",
       "<style scoped>\n",
       "    .dataframe tbody tr th:only-of-type {\n",
       "        vertical-align: middle;\n",
       "    }\n",
       "\n",
       "    .dataframe tbody tr th {\n",
       "        vertical-align: top;\n",
       "    }\n",
       "\n",
       "    .dataframe thead th {\n",
       "        text-align: right;\n",
       "    }\n",
       "</style>\n",
       "<table border=\"1\" class=\"dataframe\">\n",
       "  <thead>\n",
       "    <tr style=\"text-align: right;\">\n",
       "      <th></th>\n",
       "      <th>event_id</th>\n",
       "      <th>timestamp</th>\n",
       "      <th>longitude</th>\n",
       "      <th>latitude</th>\n",
       "      <th>app_id</th>\n",
       "      <th>device_id</th>\n",
       "      <th>label_id</th>\n",
       "      <th>gender</th>\n",
       "      <th>brand_parse</th>\n",
       "      <th>model_parse</th>\n",
       "    </tr>\n",
       "  </thead>\n",
       "  <tbody>\n",
       "    <tr>\n",
       "      <th>0</th>\n",
       "      <td>2466991</td>\n",
       "      <td>2016-05-01 00:43:07</td>\n",
       "      <td>117.09</td>\n",
       "      <td>36.12</td>\n",
       "      <td>8165649363453695304</td>\n",
       "      <td>1438711534922792517</td>\n",
       "      <td>713</td>\n",
       "      <td>M</td>\n",
       "      <td>OPPO</td>\n",
       "      <td>A33</td>\n",
       "    </tr>\n",
       "    <tr>\n",
       "      <th>1</th>\n",
       "      <td>370002</td>\n",
       "      <td>2016-05-04 08:11:03</td>\n",
       "      <td>0.00</td>\n",
       "      <td>0.00</td>\n",
       "      <td>-755461362045697404</td>\n",
       "      <td>-2449610688324901118</td>\n",
       "      <td>548</td>\n",
       "      <td>F</td>\n",
       "      <td>Meizu</td>\n",
       "      <td>Charm Blue NOTE</td>\n",
       "    </tr>\n",
       "    <tr>\n",
       "      <th>2</th>\n",
       "      <td>1608644</td>\n",
       "      <td>2016-05-02 13:56:37</td>\n",
       "      <td>116.28</td>\n",
       "      <td>40.10</td>\n",
       "      <td>8893877044209647765</td>\n",
       "      <td>4075941473982616348</td>\n",
       "      <td>206</td>\n",
       "      <td>F</td>\n",
       "      <td>Huawei</td>\n",
       "      <td>Glory 6 Plus</td>\n",
       "    </tr>\n",
       "    <tr>\n",
       "      <th>3</th>\n",
       "      <td>3008180</td>\n",
       "      <td>2016-05-03 19:02:56</td>\n",
       "      <td>0.00</td>\n",
       "      <td>0.00</td>\n",
       "      <td>-1633887856876571208</td>\n",
       "      <td>1915112695298339924</td>\n",
       "      <td>779</td>\n",
       "      <td>F</td>\n",
       "      <td>OPPO</td>\n",
       "      <td>R7s</td>\n",
       "    </tr>\n",
       "    <tr>\n",
       "      <th>4</th>\n",
       "      <td>107379</td>\n",
       "      <td>2016-05-02 17:44:32</td>\n",
       "      <td>116.50</td>\n",
       "      <td>39.91</td>\n",
       "      <td>2229153468836897886</td>\n",
       "      <td>7353572136329657630</td>\n",
       "      <td>782</td>\n",
       "      <td>F</td>\n",
       "      <td>Huawei</td>\n",
       "      <td>Mate 7</td>\n",
       "    </tr>\n",
       "  </tbody>\n",
       "</table>\n",
       "</div>"
      ],
      "text/plain": [
       "   event_id            timestamp  longitude  latitude               app_id  \\\n",
       "0   2466991  2016-05-01 00:43:07     117.09     36.12  8165649363453695304   \n",
       "1    370002  2016-05-04 08:11:03       0.00      0.00  -755461362045697404   \n",
       "2   1608644  2016-05-02 13:56:37     116.28     40.10  8893877044209647765   \n",
       "3   3008180  2016-05-03 19:02:56       0.00      0.00 -1633887856876571208   \n",
       "4    107379  2016-05-02 17:44:32     116.50     39.91  2229153468836897886   \n",
       "\n",
       "             device_id  label_id gender brand_parse      model_parse  \n",
       "0  1438711534922792517       713      M        OPPO              A33  \n",
       "1 -2449610688324901118       548      F       Meizu  Charm Blue NOTE  \n",
       "2  4075941473982616348       206      F      Huawei     Glory 6 Plus  \n",
       "3  1915112695298339924       779      F        OPPO              R7s  \n",
       "4  7353572136329657630       782      F      Huawei           Mate 7  "
      ]
     },
     "execution_count": 1,
     "metadata": {},
     "output_type": "execute_result"
    }
   ],
   "source": [
    "import pandas as pd\n",
    "\n",
    "\n",
    "url = 'https://raw.githubusercontent.com/kefeimo/DataScienceBlog/master/3.category_dtype/df_example.csv'\n",
    "df_original = pd.read_csv(url) \n",
    "df_original.head() "
   ]
  },
  {
   "cell_type": "code",
   "execution_count": 2,
   "id": "556afade-6420-4fa9-9387-69cb3e3cfd20",
   "metadata": {
    "tags": []
   },
   "outputs": [
    {
     "name": "stdout",
     "output_type": "stream",
     "text": [
      "<class 'pandas.core.frame.DataFrame'>\n",
      "RangeIndex: 130821 entries, 0 to 130820\n",
      "Data columns (total 10 columns):\n",
      " #   Column       Non-Null Count   Dtype  \n",
      "---  ------       --------------   -----  \n",
      " 0   event_id     130821 non-null  int64  \n",
      " 1   timestamp    130821 non-null  object \n",
      " 2   longitude    130821 non-null  float64\n",
      " 3   latitude     130821 non-null  float64\n",
      " 4   app_id       130821 non-null  int64  \n",
      " 5   device_id    130821 non-null  int64  \n",
      " 6   label_id     130821 non-null  int64  \n",
      " 7   gender       130821 non-null  object \n",
      " 8   brand_parse  130821 non-null  object \n",
      " 9   model_parse  130821 non-null  object \n",
      "dtypes: float64(2), int64(4), object(4)\n",
      "memory usage: 10.0+ MB\n"
     ]
    }
   ],
   "source": [
    "df_original.info()"
   ]
  },
  {
   "cell_type": "markdown",
   "id": "609e2ca6-7bb0-4ac2-bcd4-ccdf38cdcaba",
   "metadata": {},
   "source": [
    "Let’s change the ‘gender’ feature dtype to ‘category’."
   ]
  },
  {
   "cell_type": "code",
   "execution_count": 3,
   "id": "8b98837f-552d-4cbc-a671-3eb4f2a594ee",
   "metadata": {
    "tags": []
   },
   "outputs": [],
   "source": [
    "df_tmp = df_original.copy()\n",
    "df_tmp.gender = df_tmp.gender.astype('category')"
   ]
  },
  {
   "cell_type": "code",
   "execution_count": 4,
   "id": "a11a3f6e-51ba-4cfa-abf7-bf91da4dede1",
   "metadata": {
    "tags": []
   },
   "outputs": [
    {
     "name": "stdout",
     "output_type": "stream",
     "text": [
      "<class 'pandas.core.frame.DataFrame'>\n",
      "RangeIndex: 130821 entries, 0 to 130820\n",
      "Data columns (total 10 columns):\n",
      " #   Column       Non-Null Count   Dtype   \n",
      "---  ------       --------------   -----   \n",
      " 0   event_id     130821 non-null  int64   \n",
      " 1   timestamp    130821 non-null  object  \n",
      " 2   longitude    130821 non-null  float64 \n",
      " 3   latitude     130821 non-null  float64 \n",
      " 4   app_id       130821 non-null  int64   \n",
      " 5   device_id    130821 non-null  int64   \n",
      " 6   label_id     130821 non-null  int64   \n",
      " 7   gender       130821 non-null  category\n",
      " 8   brand_parse  130821 non-null  object  \n",
      " 9   model_parse  130821 non-null  object  \n",
      "dtypes: category(1), float64(2), int64(4), object(3)\n",
      "memory usage: 9.1+ MB\n"
     ]
    }
   ],
   "source": [
    "df_tmp.info()"
   ]
  },
  {
   "cell_type": "markdown",
   "id": "0777c224-9d5c-409a-a572-3df6edbe1864",
   "metadata": {},
   "source": [
    "‘groupby’ is a handy operation but not the best for categorical data analysis. \n",
    "\n",
    "To demonstrate the operation performance (i.e., time efficiency) using category dtype. As shown below, by using ‘category’ dtype, the execution is much faster (e.g., less than 1/3 of the time taken comparing to using ‘object’ date type.)"
   ]
  },
  {
   "cell_type": "code",
   "execution_count": 7,
   "id": "6fe80a75-9a1a-4cad-a82d-3b3e2675df27",
   "metadata": {
    "tags": []
   },
   "outputs": [
    {
     "name": "stdout",
     "output_type": "stream",
     "text": [
      "7.03 ms ± 84.1 µs per loop (mean ± std. dev. of 7 runs, 100 loops each)\n"
     ]
    },
    {
     "name": "stderr",
     "output_type": "stream",
     "text": [
      "<magic-timeit>:1: FutureWarning: The default of observed=False is deprecated and will be changed to True in a future version of pandas. Pass observed=False to retain current behavior or observed=True to adopt the future default and silence this warning.\n"
     ]
    },
    {
     "name": "stdout",
     "output_type": "stream",
     "text": [
      "1.4 ms ± 18 µs per loop (mean ± std. dev. of 7 runs, 1,000 loops each)\n"
     ]
    }
   ],
   "source": [
    "%timeit df_original.groupby('gender').latitude.mean()\n",
    "\n",
    "df_tmp = df_original.copy()\n",
    "df_tmp.gender = df_tmp.gender.astype('category')\n",
    "\n",
    "%timeit df_tmp.groupby('gender').latitude.mean()"
   ]
  },
  {
   "cell_type": "markdown",
   "id": "fd1a9ec0-777b-4154-89de-fd64b5ada3bc",
   "metadata": {},
   "source": [
    "All values of categorical data are either in categories or np.nan. \n",
    "Order is defined by the order of categories, not lexical order of the values. \n",
    "Internally, the data structure consists of a categories array and an integer array of codes which point to the real value in the categories array."
   ]
  },
  {
   "cell_type": "markdown",
   "id": "a4c0edc5-0268-4f41-928b-116a5eab1a6c",
   "metadata": {},
   "source": [
    "![Categories](cat.png)"
   ]
  },
  {
   "cell_type": "markdown",
   "id": "10eb8dec-6cf1-45db-9c31-2becf6f5931e",
   "metadata": {},
   "source": [
    "- First, we create a HASH TABLE to map the unique values ‘M’ and ‘F’ (a.k.a. keys) into ‘0’ and ‘1’ (a.k.a hashes)\n",
    "- Then we ENCODE the original dataset: use ‘0’ and ‘1’ to replace ‘M’ and ‘F’, respectively. The encoded dataset will be stored in memory. \n",
    "- Instead of showing the encoded dataset, when display, Pandas maps the encoded dataset back to the original ‘M’ and ‘F’ values (INV_ENCODE). In other words, the new dataset with the ‘category’ dtype looks identical to the original one (but they are not the same.)"
   ]
  },
  {
   "cell_type": "code",
   "execution_count": null,
   "id": "3fe08d80-a6ae-4356-9ec0-88533f8f304c",
   "metadata": {},
   "outputs": [],
   "source": []
  }
 ],
 "metadata": {
  "kernelspec": {
   "display_name": "Python 3 (ipykernel)",
   "language": "python",
   "name": "python3"
  },
  "language_info": {
   "codemirror_mode": {
    "name": "ipython",
    "version": 3
   },
   "file_extension": ".py",
   "mimetype": "text/x-python",
   "name": "python",
   "nbconvert_exporter": "python",
   "pygments_lexer": "ipython3",
   "version": "3.11.7"
  }
 },
 "nbformat": 4,
 "nbformat_minor": 5
}
