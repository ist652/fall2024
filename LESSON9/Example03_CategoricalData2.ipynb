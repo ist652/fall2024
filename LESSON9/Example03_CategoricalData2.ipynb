{
 "cells": [
  {
   "cell_type": "code",
   "execution_count": null,
   "id": "dramatic-railway",
   "metadata": {},
   "outputs": [],
   "source": [
    "#Working with categorical data - Example adapted from: https://pbpython.com/pandas_dtypes_cat.html\n",
    "# import required modules\n",
    "import pandas as pd\n",
    "import numpy as np\n",
    "import requests\n",
    "from io import StringIO\n",
    "from io import BytesIO\n",
    "from zipfile import ZipFile"
   ]
  },
  {
   "cell_type": "code",
   "execution_count": null,
   "id": "87115380",
   "metadata": {},
   "outputs": [],
   "source": [
    "#Defining location of dataset \n",
    "filepath=\"~/datasets/ist652/Categories/medical.zip\""
   ]
  },
  {
   "cell_type": "code",
   "execution_count": null,
   "id": "22fb5bf0",
   "metadata": {},
   "outputs": [],
   "source": [
    "df=pd.read_csv(filepath,compression='zip')"
   ]
  },
  {
   "cell_type": "code",
   "execution_count": null,
   "id": "d6171c05",
   "metadata": {},
   "outputs": [],
   "source": [
    "df.head()"
   ]
  },
  {
   "cell_type": "code",
   "execution_count": null,
   "id": "abandoned-hazard",
   "metadata": {},
   "outputs": [],
   "source": [
    "df.info()"
   ]
  },
  {
   "cell_type": "markdown",
   "id": "naked-atlanta",
   "metadata": {},
   "source": [
    "Let's see which columns may be good candidates for a categorical data type by counting how many unique entries/values are in each column and also using that information to determine if there are some columns that are not relevant."
   ]
  },
  {
   "cell_type": "code",
   "execution_count": null,
   "id": "affiliated-respondent",
   "metadata": {},
   "outputs": [],
   "source": [
    "unique_counts = pd.DataFrame.from_records([(col, df[col].nunique()) for col in df.columns],\n",
    "                          columns=['Column_Name', 'Num_Unique']).sort_values(by=['Num_Unique'])"
   ]
  },
  {
   "cell_type": "code",
   "execution_count": null,
   "id": "hollywood-republican",
   "metadata": {},
   "outputs": [],
   "source": [
    "unique_counts"
   ]
  },
  {
   "cell_type": "code",
   "execution_count": null,
   "id": "7e8227e9",
   "metadata": {},
   "outputs": [],
   "source": [
    "#drop columns that don't bring any new information\n",
    "df.drop(['Payment_Publication_Date','Delay_in_Publication_Indicator','Program_Year'],axis=1,inplace=True)"
   ]
  },
  {
   "cell_type": "code",
   "execution_count": null,
   "id": "d252b53d",
   "metadata": {},
   "outputs": [],
   "source": [
    "df.info()"
   ]
  },
  {
   "cell_type": "markdown",
   "id": "according-fireplace",
   "metadata": {},
   "source": [
    "There is a big jump in unique values when we get to 670. We will use that as the threshold (actually, we will make the threshold 700) for conversion to a Categorical values column (except for columns that have date/time based information). "
   ]
  },
  {
   "cell_type": "code",
   "execution_count": null,
   "id": "european-evanescence",
   "metadata": {},
   "outputs": [],
   "source": [
    "cols_to_exclude = ['Date_of_Payment']\n",
    "for col in df.columns:\n",
    "    if df[col].nunique() < 700 and col not in cols_to_exclude:\n",
    "        df[col] = df[col].astype('category')"
   ]
  },
  {
   "cell_type": "code",
   "execution_count": null,
   "id": "joined-saint",
   "metadata": {},
   "outputs": [],
   "source": [
    "df.info()"
   ]
  },
  {
   "cell_type": "markdown",
   "id": "religious-minutes",
   "metadata": {},
   "source": [
    "Please note that by using categorical types, we have reduced the memory use of the dataframe substantially."
   ]
  },
  {
   "cell_type": "code",
   "execution_count": null,
   "id": "legal-studio",
   "metadata": {},
   "outputs": [],
   "source": [
    "#Summary of total payments made by covered recipient type\n",
    "df.groupby('Covered_Recipient_Type')['Total_Amount_of_Payment_USDollars'].sum().to_frame()"
   ]
  },
  {
   "cell_type": "markdown",
   "id": "strange-cologne",
   "metadata": {},
   "source": [
    "To change the order of *Covered_Recipient_Type* we create a *CategoricalDtype*"
   ]
  },
  {
   "cell_type": "code",
   "execution_count": null,
   "id": "separate-ozone",
   "metadata": {},
   "outputs": [],
   "source": [
    "from pandas.api.types import CategoricalDtype\n",
    "cats_in_order = [\"Non-covered Recipient Entity\", \"Covered Recipient Teaching Hospital\",\n",
    "                 \"Covered Recipient Physician\", \"Non-covered Recipient Individual\"]\n",
    "covered_type = CategoricalDtype(categories=cats_in_order, ordered=True)"
   ]
  },
  {
   "cell_type": "code",
   "execution_count": null,
   "id": "literary-genealogy",
   "metadata": {},
   "outputs": [],
   "source": [
    "covered_type"
   ]
  },
  {
   "cell_type": "code",
   "execution_count": null,
   "id": "parliamentary-salvation",
   "metadata": {},
   "outputs": [],
   "source": [
    "df['Covered_Recipient_Type'] = df['Covered_Recipient_Type'].cat.reorder_categories(cats_in_order, ordered=True)"
   ]
  },
  {
   "cell_type": "code",
   "execution_count": null,
   "id": "unlikely-airfare",
   "metadata": {},
   "outputs": [],
   "source": [
    "df.groupby('Covered_Recipient_Type')['Total_Amount_of_Payment_USDollars'].sum().to_frame()"
   ]
  },
  {
   "cell_type": "code",
   "execution_count": null,
   "id": "70310420",
   "metadata": {},
   "outputs": [],
   "source": []
  }
 ],
 "metadata": {
  "kernelspec": {
   "display_name": "Python 3 (ipykernel)",
   "language": "python",
   "name": "python3"
  },
  "language_info": {
   "codemirror_mode": {
    "name": "ipython",
    "version": 3
   },
   "file_extension": ".py",
   "mimetype": "text/x-python",
   "name": "python",
   "nbconvert_exporter": "python",
   "pygments_lexer": "ipython3",
   "version": "3.9.6"
  }
 },
 "nbformat": 4,
 "nbformat_minor": 5
}
