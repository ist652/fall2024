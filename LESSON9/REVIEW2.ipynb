{
 "cells": [
  {
   "cell_type": "markdown",
   "id": "3a818007-f8e8-49d8-bcbf-26823bff7744",
   "metadata": {},
   "source": [
    "### REVIEW CLEANING AND TRANSFORMATION "
   ]
  },
  {
   "cell_type": "markdown",
   "id": "3d61c3f2-655d-421d-b423-a437f4611e30",
   "metadata": {},
   "source": [
    "## QUESTION 1 "
   ]
  },
  {
   "cell_type": "code",
   "execution_count": 1,
   "id": "b0b21024-aadb-4827-8525-33e4d87e118e",
   "metadata": {
    "tags": []
   },
   "outputs": [
    {
     "name": "stdout",
     "output_type": "stream",
     "text": [
      "    Courses      Fee Duration Discount    \n",
      "r1    Spark  20000.0    30day     1000 NaN\n",
      "r2  PySpark  25000.0   40days      NaN NaN\n",
      "r3   Hadoop  26000.0   35days     1200 NaN\n",
      "r4   Python  23093.0   45days     2500 NaN\n",
      "r5   pandas  24000.0      NaN      NaT NaN\n",
      "        NaN      NaN      NaN      NaN NaN\n"
     ]
    }
   ],
   "source": [
    "# CONSIDER THE FOLLOWING \n",
    "\n",
    "import pandas as pd\n",
    "import numpy as np\n",
    "technologies = {\n",
    "    'Courses':[\"Spark\",\"PySpark\",\"Hadoop\",\"Python\",\"pandas\",np.nan],\n",
    "    'Fee' :[20000,25000,26000,23093,24000,np.nan],\n",
    "    'Duration':['30day','40days','35days','45days',np.nan,np.nan],\n",
    "    'Discount':[1000,np.nan,1200,2500,pd.NaT,np.nan],\n",
    "    '':[np.nan,np.nan,np.nan,np.nan,np.nan,np.nan]\n",
    "              }\n",
    "index_labels=['r1','r2','r3','r4','r5','']\n",
    "df = pd.DataFrame(technologies,index=index_labels)\n",
    "print(df)"
   ]
  },
  {
   "cell_type": "code",
   "execution_count": null,
   "id": "f6964b8d-36aa-46a1-9dd4-2e8ad444dcba",
   "metadata": {},
   "outputs": [],
   "source": [
    "# DETECT THE MISSING VALUES. OUTPUT SHOULD BE BOOLEAN VALUES\n",
    "\n"
   ]
  },
  {
   "cell_type": "code",
   "execution_count": null,
   "id": "adcb61a7-1253-44c4-879b-2e35f458140f",
   "metadata": {},
   "outputs": [],
   "source": [
    "# COUNT THE NUMBER OF MISSING VALUES \n",
    "\n"
   ]
  },
  {
   "cell_type": "code",
   "execution_count": 2,
   "id": "af3f8e56-b464-4e63-a3b2-c08a32f156f9",
   "metadata": {
    "tags": []
   },
   "outputs": [],
   "source": [
    "# DROP ROWS WHERE ALL VALUES ARE MISSING\n",
    "\n"
   ]
  },
  {
   "cell_type": "code",
   "execution_count": null,
   "id": "9c37d2bf-1ff8-4cbc-a268-c8ca1a58d701",
   "metadata": {},
   "outputs": [],
   "source": [
    "# DROP COLUMNS WHERE ALL VALUES ARE MISSING\n",
    "\n"
   ]
  },
  {
   "cell_type": "code",
   "execution_count": 3,
   "id": "2d0a99b7-e329-4267-b625-cf8859f78d99",
   "metadata": {
    "tags": []
   },
   "outputs": [],
   "source": [
    "# REMOVE ROW WITH AT LEAST TWO MISSING VALUES\n",
    "\n",
    "\n"
   ]
  },
  {
   "cell_type": "markdown",
   "id": "62161231-06bb-46d4-a874-3b4fc43cd939",
   "metadata": {},
   "source": [
    "## QUESTION 2"
   ]
  },
  {
   "cell_type": "code",
   "execution_count": 7,
   "id": "6421449c-1ce0-41e1-9815-863705aea4d8",
   "metadata": {
    "tags": []
   },
   "outputs": [
    {
     "data": {
      "text/html": [
       "<div>\n",
       "<style scoped>\n",
       "    .dataframe tbody tr th:only-of-type {\n",
       "        vertical-align: middle;\n",
       "    }\n",
       "\n",
       "    .dataframe tbody tr th {\n",
       "        vertical-align: top;\n",
       "    }\n",
       "\n",
       "    .dataframe thead th {\n",
       "        text-align: right;\n",
       "    }\n",
       "</style>\n",
       "<table border=\"1\" class=\"dataframe\">\n",
       "  <thead>\n",
       "    <tr style=\"text-align: right;\">\n",
       "      <th></th>\n",
       "      <th>A</th>\n",
       "      <th>B</th>\n",
       "      <th>C</th>\n",
       "    </tr>\n",
       "  </thead>\n",
       "  <tbody>\n",
       "    <tr>\n",
       "      <th>0</th>\n",
       "      <td>1.0</td>\n",
       "      <td>a</td>\n",
       "      <td>NaN</td>\n",
       "    </tr>\n",
       "    <tr>\n",
       "      <th>1</th>\n",
       "      <td>2.0</td>\n",
       "      <td>b</td>\n",
       "      <td>2.5</td>\n",
       "    </tr>\n",
       "    <tr>\n",
       "      <th>2</th>\n",
       "      <td>NaN</td>\n",
       "      <td>c</td>\n",
       "      <td>3.2</td>\n",
       "    </tr>\n",
       "    <tr>\n",
       "      <th>3</th>\n",
       "      <td>4.0</td>\n",
       "      <td>NaN</td>\n",
       "      <td>4.7</td>\n",
       "    </tr>\n",
       "    <tr>\n",
       "      <th>4</th>\n",
       "      <td>5.0</td>\n",
       "      <td>e</td>\n",
       "      <td>5.1</td>\n",
       "    </tr>\n",
       "  </tbody>\n",
       "</table>\n",
       "</div>"
      ],
      "text/plain": [
       "     A    B    C\n",
       "0  1.0    a  NaN\n",
       "1  2.0    b  2.5\n",
       "2  NaN    c  3.2\n",
       "3  4.0  NaN  4.7\n",
       "4  5.0    e  5.1"
      ]
     },
     "execution_count": 7,
     "metadata": {},
     "output_type": "execute_result"
    }
   ],
   "source": [
    "# DATASET\n",
    "\n",
    "data = {'A': [1, 2, np.nan, 4, 5],\n",
    "        'B': ['a', 'b', 'c', np.nan, 'e'],\n",
    "        'C': [np.nan, 2.5, 3.2, 4.7, 5.1]}\n",
    "df = pd.DataFrame(data)\n",
    "df"
   ]
  },
  {
   "cell_type": "code",
   "execution_count": null,
   "id": "b2047253-757d-45ba-8352-c55262ecd4d8",
   "metadata": {},
   "outputs": [],
   "source": [
    "# Fill missing values with the mean of the column. When will this tpe of imputation be useful?\n",
    "\n"
   ]
  },
  {
   "cell_type": "code",
   "execution_count": null,
   "id": "0545fa2a-52fe-47fb-a1a3-68a330cb2d7a",
   "metadata": {},
   "outputs": [],
   "source": [
    "# Fill missing values with the median of the column. When will this type of imputation be useful?\n",
    "\n",
    "\n"
   ]
  },
  {
   "cell_type": "code",
   "execution_count": null,
   "id": "14fc4935-218e-4279-b974-df54209b8773",
   "metadata": {},
   "outputs": [],
   "source": [
    "# Create a sample DataFrame with missing values\n",
    "\n",
    "\n",
    "\n",
    "# Demonstrate selective replacement of missing values in 2 columns\n"
   ]
  },
  {
   "cell_type": "code",
   "execution_count": null,
   "id": "77c9010b-83df-425e-95fe-3d91708030b5",
   "metadata": {},
   "outputs": [],
   "source": [
    "# Use ffill() function to fill the missing values along the column axis and limit to 2\n",
    "\n"
   ]
  },
  {
   "cell_type": "markdown",
   "id": "d5a4bc91-db71-41a4-80ed-117d095054da",
   "metadata": {
    "tags": []
   },
   "source": [
    "### QUESTION 3"
   ]
  },
  {
   "cell_type": "code",
   "execution_count": 9,
   "id": "93501b00-3bf1-4d5a-a58c-fb4c906184c5",
   "metadata": {
    "tags": []
   },
   "outputs": [
    {
     "name": "stdout",
     "output_type": "stream",
     "text": [
      "      Name  Age  Grade  Attendance\n",
      "0    Alice   20     85          95\n",
      "1      Bob   22     90          92\n",
      "2  Charlie   21     78          88\n",
      "3    David   23     92          93\n",
      "4    Alice   20     85          95\n",
      "5      Eva   19     88          96\n",
      "6      Bob   22     90          92\n"
     ]
    }
   ],
   "source": [
    "# Sample data for student names and ages\n",
    "students_data = {\n",
    "    'Name': [\"Alice\", \"Bob\", \"Charlie\", \"David\", \"Alice\", \"Eva\", \"Bob\"],\n",
    "    'Age': [20, 22, 21, 23, 20, 19, 22],\n",
    "    'Grade': [85, 90, 78, 92, 85, 88, 90],\n",
    "    'Attendance': [95, 92, 88, 93, 95, 96, 92]\n",
    "}\n",
    "\n",
    "# Create a DataFrame\n",
    "students_df = pd.DataFrame(students_data)\n",
    "print(students_df)"
   ]
  },
  {
   "cell_type": "code",
   "execution_count": null,
   "id": "74376ff8-176d-46f9-8701-b29ed67dc541",
   "metadata": {},
   "outputs": [],
   "source": [
    "# Indicate rows that are duplicated\n",
    "#  Remove all duplicate rows\n",
    "\n",
    "\n"
   ]
  },
  {
   "cell_type": "code",
   "execution_count": null,
   "id": "cd166170-9be4-4978-9ba4-f9848abecf78",
   "metadata": {},
   "outputs": [],
   "source": [
    "# Delete duplicate rows based on specific columns (Name and Age)\n",
    "\n"
   ]
  },
  {
   "cell_type": "code",
   "execution_count": null,
   "id": "785cd6ba-b5ac-423e-878a-3603471674f3",
   "metadata": {},
   "outputs": [],
   "source": [
    "# Use DataFrame.apply() and lambda function to make names case-insensitive and keep the first occurrence\n",
    "\n",
    "\n"
   ]
  },
  {
   "cell_type": "markdown",
   "id": "d09fc495-9625-41b9-bf7c-b168e52eb577",
   "metadata": {},
   "source": [
    "### QUESTION 4"
   ]
  },
  {
   "cell_type": "code",
   "execution_count": null,
   "id": "e1872a3c-f1b1-47b9-a732-336fd0dedf51",
   "metadata": {},
   "outputs": [],
   "source": [
    "# create a list of exam scores\n",
    "\n",
    "\n"
   ]
  },
  {
   "cell_type": "code",
   "execution_count": null,
   "id": "85c9c369-d289-49e5-8db1-a7877057df23",
   "metadata": {},
   "outputs": [],
   "source": [
    "# define the bins - grading ranges, set right to true (default)\n",
    "\n"
   ]
  },
  {
   "cell_type": "code",
   "execution_count": null,
   "id": "81f264e3-acd6-4493-b965-219fefaa3270",
   "metadata": {},
   "outputs": [],
   "source": [
    "# Label bins\n",
    "\n"
   ]
  },
  {
   "cell_type": "markdown",
   "id": "fa33512d-17be-4ffe-9b5b-0462b01a6829",
   "metadata": {
    "tags": []
   },
   "source": [
    "### QUESTION 5"
   ]
  },
  {
   "cell_type": "code",
   "execution_count": 20,
   "id": "44ffe741-4490-452e-bb54-177d28abcb01",
   "metadata": {
    "tags": []
   },
   "outputs": [
    {
     "data": {
      "text/plain": [
       "0      Tim\n",
       "1      Sam\n",
       "2      Tom\n",
       "3     Jane\n",
       "4      Tim\n",
       "5      Sam\n",
       "6      Tom\n",
       "7     Jane\n",
       "8      Tim\n",
       "9      Sam\n",
       "10     Tom\n",
       "11    Jane\n",
       "dtype: object"
      ]
     },
     "execution_count": 20,
     "metadata": {},
     "output_type": "execute_result"
    }
   ],
   "source": [
    "names = pd.Series([\"Tim\", \"Sam\", \"Tom\", \"Jane\"] * 3)\n",
    "names"
   ]
  },
  {
   "cell_type": "code",
   "execution_count": null,
   "id": "1bed5370-eccd-4078-9337-9d715cb82d57",
   "metadata": {},
   "outputs": [],
   "source": [
    "# Show the unique data values\n",
    "\n"
   ]
  },
  {
   "cell_type": "code",
   "execution_count": null,
   "id": "cfb03492-48e7-4ad1-9159-ff887aac35d1",
   "metadata": {},
   "outputs": [],
   "source": [
    "# What are the number of duplicate values\n",
    "\n"
   ]
  },
  {
   "cell_type": "code",
   "execution_count": 13,
   "id": "e7c23e8e-7717-497e-b3e0-029a2813c0f5",
   "metadata": {
    "tags": []
   },
   "outputs": [
    {
     "data": {
      "text/plain": [
       "12"
      ]
     },
     "execution_count": 13,
     "metadata": {},
     "output_type": "execute_result"
    }
   ],
   "source": [
    "# Lenght of the name variable to create a datafrane\n",
    "\n",
    "\n",
    "n = len(names)\n",
    "n"
   ]
  },
  {
   "cell_type": "code",
   "execution_count": 22,
   "id": "033b606d-7d44-4678-967f-f7884eb4a27f",
   "metadata": {
    "tags": []
   },
   "outputs": [
    {
     "data": {
      "text/html": [
       "<div>\n",
       "<style scoped>\n",
       "    .dataframe tbody tr th:only-of-type {\n",
       "        vertical-align: middle;\n",
       "    }\n",
       "\n",
       "    .dataframe tbody tr th {\n",
       "        vertical-align: top;\n",
       "    }\n",
       "\n",
       "    .dataframe thead th {\n",
       "        text-align: right;\n",
       "    }\n",
       "</style>\n",
       "<table border=\"1\" class=\"dataframe\">\n",
       "  <thead>\n",
       "    <tr style=\"text-align: right;\">\n",
       "      <th></th>\n",
       "      <th>num</th>\n",
       "      <th>name</th>\n",
       "      <th>score</th>\n",
       "      <th>weight</th>\n",
       "    </tr>\n",
       "  </thead>\n",
       "  <tbody>\n",
       "    <tr>\n",
       "      <th>0</th>\n",
       "      <td>0</td>\n",
       "      <td>Tim</td>\n",
       "      <td>50</td>\n",
       "      <td>63.676817</td>\n",
       "    </tr>\n",
       "    <tr>\n",
       "      <th>1</th>\n",
       "      <td>1</td>\n",
       "      <td>Sam</td>\n",
       "      <td>64</td>\n",
       "      <td>55.111185</td>\n",
       "    </tr>\n",
       "    <tr>\n",
       "      <th>2</th>\n",
       "      <td>2</td>\n",
       "      <td>Tom</td>\n",
       "      <td>53</td>\n",
       "      <td>51.304043</td>\n",
       "    </tr>\n",
       "    <tr>\n",
       "      <th>3</th>\n",
       "      <td>3</td>\n",
       "      <td>Jane</td>\n",
       "      <td>40</td>\n",
       "      <td>52.402771</td>\n",
       "    </tr>\n",
       "    <tr>\n",
       "      <th>4</th>\n",
       "      <td>4</td>\n",
       "      <td>Tim</td>\n",
       "      <td>80</td>\n",
       "      <td>58.564287</td>\n",
       "    </tr>\n",
       "    <tr>\n",
       "      <th>5</th>\n",
       "      <td>5</td>\n",
       "      <td>Sam</td>\n",
       "      <td>52</td>\n",
       "      <td>56.078659</td>\n",
       "    </tr>\n",
       "    <tr>\n",
       "      <th>6</th>\n",
       "      <td>6</td>\n",
       "      <td>Tom</td>\n",
       "      <td>72</td>\n",
       "      <td>65.572167</td>\n",
       "    </tr>\n",
       "    <tr>\n",
       "      <th>7</th>\n",
       "      <td>7</td>\n",
       "      <td>Jane</td>\n",
       "      <td>98</td>\n",
       "      <td>53.243287</td>\n",
       "    </tr>\n",
       "    <tr>\n",
       "      <th>8</th>\n",
       "      <td>8</td>\n",
       "      <td>Tim</td>\n",
       "      <td>79</td>\n",
       "      <td>60.706475</td>\n",
       "    </tr>\n",
       "    <tr>\n",
       "      <th>9</th>\n",
       "      <td>9</td>\n",
       "      <td>Sam</td>\n",
       "      <td>68</td>\n",
       "      <td>52.801677</td>\n",
       "    </tr>\n",
       "    <tr>\n",
       "      <th>10</th>\n",
       "      <td>10</td>\n",
       "      <td>Tom</td>\n",
       "      <td>62</td>\n",
       "      <td>63.684129</td>\n",
       "    </tr>\n",
       "    <tr>\n",
       "      <th>11</th>\n",
       "      <td>11</td>\n",
       "      <td>Jane</td>\n",
       "      <td>80</td>\n",
       "      <td>54.175551</td>\n",
       "    </tr>\n",
       "  </tbody>\n",
       "</table>\n",
       "</div>"
      ],
      "text/plain": [
       "    num  name  score     weight\n",
       "0     0   Tim     50  63.676817\n",
       "1     1   Sam     64  55.111185\n",
       "2     2   Tom     53  51.304043\n",
       "3     3  Jane     40  52.402771\n",
       "4     4   Tim     80  58.564287\n",
       "5     5   Sam     52  56.078659\n",
       "6     6   Tom     72  65.572167\n",
       "7     7  Jane     98  53.243287\n",
       "8     8   Tim     79  60.706475\n",
       "9     9   Sam     68  52.801677\n",
       "10   10   Tom     62  63.684129\n",
       "11   11  Jane     80  54.175551"
      ]
     },
     "execution_count": 22,
     "metadata": {},
     "output_type": "execute_result"
    }
   ],
   "source": [
    "df_names = pd.DataFrame(\n",
    "    {\"name\": names, \n",
    "     \"num\":np.arange(n), \n",
    "     \"score\":np.random.randint(40, 100,\n",
    "                              size = n),\n",
    "     \"weight\" :np.random.uniform(50, 70,\n",
    "                              size = n)},   \n",
    "    columns = ['num', 'name', 'score', \"weight\"])\n",
    "\n",
    "df_names"
   ]
  },
  {
   "cell_type": "code",
   "execution_count": null,
   "id": "bc2cb186-0387-448e-ab99-f6ffa59a3824",
   "metadata": {},
   "outputs": [],
   "source": [
    "# Convert column to a category type\n",
    "\n"
   ]
  },
  {
   "cell_type": "code",
   "execution_count": null,
   "id": "e977c0c7-701f-441d-b0da-23a3cd2ac99e",
   "metadata": {},
   "outputs": [],
   "source": [
    "#  take a look at the memory usage of categorical and non-categorical data."
   ]
  },
  {
   "cell_type": "markdown",
   "id": "be4477ac-44b8-404b-9ed1-73153f1d1015",
   "metadata": {
    "tags": []
   },
   "source": [
    "# QUESTION 6"
   ]
  },
  {
   "cell_type": "code",
   "execution_count": 27,
   "id": "f19112a0-7029-4033-b801-c9299d690099",
   "metadata": {
    "tags": []
   },
   "outputs": [
    {
     "data": {
      "text/plain": [
       "['red', 'blue', 'green', 'red', 'blue']"
      ]
     },
     "execution_count": 27,
     "metadata": {},
     "output_type": "execute_result"
    }
   ],
   "source": [
    "color_data = ['red', 'blue', 'green', 'red', 'blue']\n",
    "color_data"
   ]
  },
  {
   "cell_type": "code",
   "execution_count": null,
   "id": "9c988dd4-6ddb-4f41-b857-b953a9ac3214",
   "metadata": {},
   "outputs": [],
   "source": [
    "# Create a categorical column\n",
    "\n"
   ]
  },
  {
   "cell_type": "code",
   "execution_count": 28,
   "id": "5dc6c432-63ec-41f7-a82b-900c4fb0ae90",
   "metadata": {
    "tags": []
   },
   "outputs": [],
   "source": [
    "# convert the Series to a categorical Series using .astype()\n",
    "\n",
    "color_data2 = ['red', 'blue', 'green', 'red', 'blue']\n",
    "series1 = pd.Series(color_data2)"
   ]
  },
  {
   "cell_type": "code",
   "execution_count": null,
   "id": "5d0dd45b-a6a4-4f19-aad2-cadc56a63cee",
   "metadata": {},
   "outputs": [],
   "source": [
    "#  a categorical Series\n",
    "data_labels = ['A', 'B', 'A', 'C', 'B']\n",
    "cat_series = pd.Series(data, dtype=\"category\")\n",
    "\n",
    "# create a dictionary for renaming categories\n",
    "\n",
    "\n"
   ]
  },
  {
   "cell_type": "code",
   "execution_count": null,
   "id": "6476a923-1b60-45a7-beb7-c1ffb918f1aa",
   "metadata": {},
   "outputs": [],
   "source": [
    "# rename categories using .rename_categories() and recreate the Series\n",
    "\n"
   ]
  },
  {
   "cell_type": "code",
   "execution_count": null,
   "id": "f488cf6c-1c1a-42a6-9fb5-49ff9909908e",
   "metadata": {},
   "outputs": [],
   "source": [
    "# add new categories and reassign the variable\n",
    "\n",
    "\n"
   ]
  },
  {
   "cell_type": "code",
   "execution_count": null,
   "id": "f30c126e-267b-4b5c-ae5c-c4ef74f9f927",
   "metadata": {},
   "outputs": [],
   "source": [
    "# remove added categories\n",
    "\n"
   ]
  }
 ],
 "metadata": {
  "kernelspec": {
   "display_name": "Python 3 (ipykernel)",
   "language": "python",
   "name": "python3"
  },
  "language_info": {
   "codemirror_mode": {
    "name": "ipython",
    "version": 3
   },
   "file_extension": ".py",
   "mimetype": "text/x-python",
   "name": "python",
   "nbconvert_exporter": "python",
   "pygments_lexer": "ipython3",
   "version": "3.11.7"
  }
 },
 "nbformat": 4,
 "nbformat_minor": 5
}
