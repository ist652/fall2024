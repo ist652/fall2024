{
 "cells": [
  {
   "cell_type": "markdown",
   "id": "8d350f78-4309-4718-8fc8-fd0f979e6f67",
   "metadata": {},
   "source": [
    "## SEABORN AND MATPLOTLIB  REVIEW"
   ]
  },
  {
   "cell_type": "markdown",
   "id": "66f699f9-8d6b-4c61-b5df-9fce40b347c6",
   "metadata": {},
   "source": [
    "#### QUESTION 1\n",
    "\n",
    "Review the following …\n",
    "https://matplotlib.org/stable/tutorials/introductory/quick_start.html#sphx-glr-tutorials-introductory-quick-start-py\n",
    "\n",
    "\n",
    "Create visualizations that satisfies the following requirements:Here is an overview of examples … https://matplotlib.org/stable/plot_types/index.html\n",
    "\n",
    "\n",
    "Using your project data generate TWO  graphs using matplotlib. The two graphs cannot be of the same type (i.e. one could be a line chart, and the other one a bar chart, for example) they must convey different results/insights. \n",
    "\n",
    "* Note: To see the code for each of the graph examples, click on the graph. You can then copy the code into your notebook and modify it for your own purposes.  Alternatively, you can download the source code. Justify your visualization choice.\n"
   ]
  },
  {
   "cell_type": "code",
   "execution_count": null,
   "id": "cb54a2ab-b989-41a7-a359-a963f9f6bfde",
   "metadata": {},
   "outputs": [],
   "source": []
  },
  {
   "cell_type": "code",
   "execution_count": null,
   "id": "c638d77b-e621-4af3-b146-dbbadff68aa8",
   "metadata": {},
   "outputs": [],
   "source": []
  },
  {
   "cell_type": "code",
   "execution_count": null,
   "id": "4b58354c-f8e9-45e4-a909-26863eda7676",
   "metadata": {},
   "outputs": [],
   "source": []
  },
  {
   "cell_type": "code",
   "execution_count": null,
   "id": "49a876a4-59e5-43d5-8d86-27ff8ad2f188",
   "metadata": {},
   "outputs": [],
   "source": []
  },
  {
   "cell_type": "markdown",
   "id": "340e2e8c-6b02-45f9-9c9e-8f6e9db90f2e",
   "metadata": {
    "tags": []
   },
   "source": [
    "#### QUESTION 2\n",
    "\n",
    "Using your project data generate THREE  graphs using Seaborn.\n",
    "https://seaborn.pydata.org/\n",
    "(see the Gallery section) to generate three graphs using Seaborn. \n",
    "\n",
    "The graphs must use different data from that used in the examples. The two graphs cannot be of the same type (i.e. one could be a line chat, the other one a bar chart, etc) and they must convey different results/insights. Justify your visualization choice. \n"
   ]
  },
  {
   "cell_type": "code",
   "execution_count": null,
   "id": "8e9922c0-b2cd-4a4f-8d5e-c549a6809817",
   "metadata": {},
   "outputs": [],
   "source": []
  },
  {
   "cell_type": "code",
   "execution_count": null,
   "id": "865edc36-b00e-4cf3-9006-619ef41293ee",
   "metadata": {},
   "outputs": [],
   "source": []
  },
  {
   "cell_type": "code",
   "execution_count": null,
   "id": "c49e8655-c06d-4ffd-b2a6-3b6a9e148ce6",
   "metadata": {},
   "outputs": [],
   "source": []
  },
  {
   "cell_type": "code",
   "execution_count": null,
   "id": "dba0a156-d966-41f4-ac8f-c3e45bb064db",
   "metadata": {},
   "outputs": [],
   "source": []
  },
  {
   "cell_type": "code",
   "execution_count": null,
   "id": "5a431516-c3ac-4ffe-b1f8-a6e960ee99ea",
   "metadata": {},
   "outputs": [],
   "source": []
  },
  {
   "cell_type": "code",
   "execution_count": null,
   "id": "2e51e988-bf0c-44a4-8d4b-e2c435723978",
   "metadata": {},
   "outputs": [],
   "source": []
  }
 ],
 "metadata": {
  "kernelspec": {
   "display_name": "Python 3 (ipykernel)",
   "language": "python",
   "name": "python3"
  },
  "language_info": {
   "codemirror_mode": {
    "name": "ipython",
    "version": 3
   },
   "file_extension": ".py",
   "mimetype": "text/x-python",
   "name": "python",
   "nbconvert_exporter": "python",
   "pygments_lexer": "ipython3",
   "version": "3.11.7"
  }
 },
 "nbformat": 4,
 "nbformat_minor": 5
}
