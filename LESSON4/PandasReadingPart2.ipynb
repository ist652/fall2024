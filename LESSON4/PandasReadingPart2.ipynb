{
 "cells": [
  {
   "cell_type": "markdown",
   "metadata": {},
   "source": [
    "## Lesson 11: Data Analysis with Pandas II\n",
    "\n",
    "### Overview\n",
    "\n",
    "In this lesson we learn:\n",
    "\n",
    "- Advanced use cases for Pandas\n",
    "- Loading and Saving Data JSON with Pandas\n",
    "- Simple Web scraping with Pandas\n",
    "- Basic Pandas operations for DataFrames\n",
    "\n",
    "### Required Before Large Group\n",
    "\n",
    "- READ: [Fudge: Data Analysis with Pandas (Part Two)](../10-Pandas-I/DataAnalysisWithPandas.ipynb#Part-Two)\n",
    "- VIDEO: [Normalize JSON Dataset with Pandas, by Jie Jenn](https://www.youtube.com/watch?v=8ppVvMz33Qg)\n",
    "- VIDEO: [How do I merge DataFrames in pandas, by Data School](https://www.youtube.com/watch?v=iYWKfUOtGaw&t=168s)\n",
    "- VIDEO: [How do I apply a function to a pandas Series or DataFrame?, by Data School](https://www.youtube.com/watch?v=P_q0tkYqvSk)\n",
    "\n",
    "### Additional Resources\n",
    "\n",
    "- VIDEO: [10 Minutes of Pandas by Wes McKinney](https://www.youtube.com/watch?v=_T8LGqJtuGc)\n",
    "- No more lab walk throughs or homework advice yet as content was re-written this semester.\n"
   ]
  },
  {
   "cell_type": "code",
   "execution_count": null,
   "metadata": {},
   "outputs": [],
   "source": []
  }
 ],
 "metadata": {
  "kernelspec": {
   "display_name": "Python 3 (ipykernel)",
   "language": "python",
   "name": "python3"
  },
  "language_info": {
   "codemirror_mode": {
    "name": "ipython",
    "version": 3
   },
   "file_extension": ".py",
   "mimetype": "text/x-python",
   "name": "python",
   "nbconvert_exporter": "python",
   "pygments_lexer": "ipython3",
   "version": "3.11.7"
  }
 },
 "nbformat": 4,
 "nbformat_minor": 4
}
