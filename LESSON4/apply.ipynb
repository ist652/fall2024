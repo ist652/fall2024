{
 "cells": [
  {
   "cell_type": "code",
   "execution_count": 3,
   "id": "67ec8097-f60f-4d34-82b6-709727b498bf",
   "metadata": {
    "tags": []
   },
   "outputs": [],
   "source": [
    "import pandas as pd"
   ]
  },
  {
   "cell_type": "markdown",
   "id": "ee9f6055-81e4-4f11-b39c-81ae317ce2e7",
   "metadata": {},
   "source": [
    "### Using apply \n",
    "\n",
    "Allows you to pass a function and apply it on every value of the Pandas series.\n",
    "\n",
    "- create a custom function() issuer, similar to the functions practice.\n",
    "\n",
    "- apply() theissuer() function to each row to generate a new column \"issuer\""
   ]
  },
  {
   "cell_type": "code",
   "execution_count": 4,
   "id": "00135c31-2a46-49f8-a40f-4ac497cd8050",
   "metadata": {
    "tags": []
   },
   "outputs": [],
   "source": [
    "def issuer(card: str) -> str:\n",
    "    card = str(card)\n",
    "    first_digit = card[0]\n",
    "    if first_digit == \"6\":\n",
    "        return \"DISC\"\n",
    "    if first_digit == \"5\":\n",
    "        return \"MC\"\n",
    "    if first_digit == \"4\":\n",
    "        return \"VISA\"\n",
    "    if first_digit == \"3\":\n",
    "        return \"AMEX\"\n",
    "\n",
    "    return \"Unknown\"\n",
    "\n",
    "\n",
    "assert issuer(\"5295474999519325\") == \"MC\"\n",
    "assert issuer(\"4584857473589512\") == \"VISA\"\n",
    "assert issuer(\"6011687948781644\") == \"DISC\"\n",
    "assert issuer(364733448466728) == \"AMEX\"\n"
   ]
  },
  {
   "cell_type": "markdown",
   "id": "d6e92f3d-c046-42c2-9299-2080e6f21a64",
   "metadata": {},
   "source": [
    "#### Bringing in a text file ...\n",
    "\n",
    "- We are reading a text file - credit_cards.txt using pd.read_csv.\n",
    "- sep=\" \" specifies that the columns in the file are separated by spaces.\n",
    "- header=None tells us that the file doesn't have a header row, so column names will be added later.\n",
    "- df.columns = [\"card\", \"exp\"] - we are adding two columns named \"card\" and \"exp\". \"card\""
   ]
  },
  {
   "cell_type": "code",
   "execution_count": 5,
   "id": "1b88b26a-7f40-4248-b61b-9461e58c65ac",
   "metadata": {
    "tags": []
   },
   "outputs": [
    {
     "data": {
      "text/html": [
       "<div>\n",
       "<style scoped>\n",
       "    .dataframe tbody tr th:only-of-type {\n",
       "        vertical-align: middle;\n",
       "    }\n",
       "\n",
       "    .dataframe tbody tr th {\n",
       "        vertical-align: top;\n",
       "    }\n",
       "\n",
       "    .dataframe thead th {\n",
       "        text-align: right;\n",
       "    }\n",
       "</style>\n",
       "<table border=\"1\" class=\"dataframe\">\n",
       "  <thead>\n",
       "    <tr style=\"text-align: right;\">\n",
       "      <th></th>\n",
       "      <th>card</th>\n",
       "      <th>exp</th>\n",
       "    </tr>\n",
       "  </thead>\n",
       "  <tbody>\n",
       "    <tr>\n",
       "      <th>0</th>\n",
       "      <td>6011325926714465</td>\n",
       "      <td>02/2023</td>\n",
       "    </tr>\n",
       "    <tr>\n",
       "      <th>1</th>\n",
       "      <td>6011687948781644</td>\n",
       "      <td>02/2023</td>\n",
       "    </tr>\n",
       "    <tr>\n",
       "      <th>2</th>\n",
       "      <td>4567958456643465</td>\n",
       "      <td>07/2022</td>\n",
       "    </tr>\n",
       "    <tr>\n",
       "      <th>3</th>\n",
       "      <td>4235823774487478</td>\n",
       "      <td>03/2023</td>\n",
       "    </tr>\n",
       "    <tr>\n",
       "      <th>4</th>\n",
       "      <td>4982444199283999</td>\n",
       "      <td>12/2022</td>\n",
       "    </tr>\n",
       "  </tbody>\n",
       "</table>\n",
       "</div>"
      ],
      "text/plain": [
       "               card      exp\n",
       "0  6011325926714465  02/2023\n",
       "1  6011687948781644  02/2023\n",
       "2  4567958456643465  07/2022\n",
       "3  4235823774487478  03/2023\n",
       "4  4982444199283999  12/2022"
      ]
     },
     "execution_count": 5,
     "metadata": {},
     "output_type": "execute_result"
    }
   ],
   "source": [
    "df = pd.read_csv(\"https://raw.githubusercontent.com/mafudge/datasets/master/credit-cards/credit_cards.txt\", sep=\" \", header=None)\n",
    "df.columns = [\"card\", \"exp\"]\n",
    "df.head()"
   ]
  },
  {
   "cell_type": "markdown",
   "id": "b63f7a04-3a69-4516-8de2-4150b313753e",
   "metadata": {},
   "source": [
    "#### Adding the function \n",
    "\n",
    "#### Add a new column called 'issuer':\n",
    "- Code below applies a function issuer to each row of the DataFrame df, where the function issuer takes the value from the \"card\" column as an argument.\n",
    "- The result of this function is then stored in a new column 'issuer'.\n",
    "- axis=1 ensures that the function is applied row-wise (i.e., it operates on each row instead of columns).\n"
   ]
  },
  {
   "cell_type": "code",
   "execution_count": 6,
   "id": "d0b32c44-7cf9-48a2-ab1d-cc7cfabcdf81",
   "metadata": {
    "tags": []
   },
   "outputs": [
    {
     "data": {
      "text/html": [
       "<div>\n",
       "<style scoped>\n",
       "    .dataframe tbody tr th:only-of-type {\n",
       "        vertical-align: middle;\n",
       "    }\n",
       "\n",
       "    .dataframe tbody tr th {\n",
       "        vertical-align: top;\n",
       "    }\n",
       "\n",
       "    .dataframe thead th {\n",
       "        text-align: right;\n",
       "    }\n",
       "</style>\n",
       "<table border=\"1\" class=\"dataframe\">\n",
       "  <thead>\n",
       "    <tr style=\"text-align: right;\">\n",
       "      <th></th>\n",
       "      <th>card</th>\n",
       "      <th>exp</th>\n",
       "      <th>issuer</th>\n",
       "    </tr>\n",
       "  </thead>\n",
       "  <tbody>\n",
       "    <tr>\n",
       "      <th>0</th>\n",
       "      <td>6011325926714465</td>\n",
       "      <td>02/2023</td>\n",
       "      <td>DISC</td>\n",
       "    </tr>\n",
       "    <tr>\n",
       "      <th>1</th>\n",
       "      <td>6011687948781644</td>\n",
       "      <td>02/2023</td>\n",
       "      <td>DISC</td>\n",
       "    </tr>\n",
       "    <tr>\n",
       "      <th>2</th>\n",
       "      <td>4567958456643465</td>\n",
       "      <td>07/2022</td>\n",
       "      <td>VISA</td>\n",
       "    </tr>\n",
       "    <tr>\n",
       "      <th>3</th>\n",
       "      <td>4235823774487478</td>\n",
       "      <td>03/2023</td>\n",
       "      <td>VISA</td>\n",
       "    </tr>\n",
       "    <tr>\n",
       "      <th>4</th>\n",
       "      <td>4982444199283999</td>\n",
       "      <td>12/2022</td>\n",
       "      <td>VISA</td>\n",
       "    </tr>\n",
       "  </tbody>\n",
       "</table>\n",
       "</div>"
      ],
      "text/plain": [
       "               card      exp issuer\n",
       "0  6011325926714465  02/2023   DISC\n",
       "1  6011687948781644  02/2023   DISC\n",
       "2  4567958456643465  07/2022   VISA\n",
       "3  4235823774487478  03/2023   VISA\n",
       "4  4982444199283999  12/2022   VISA"
      ]
     },
     "execution_count": 6,
     "metadata": {},
     "output_type": "execute_result"
    }
   ],
   "source": [
    "df['issuer'] = df.apply(lambda row: issuer(row[\"card\"]), axis=1)\n",
    "df.head()"
   ]
  },
  {
   "cell_type": "code",
   "execution_count": 7,
   "id": "fa8e4109-27ae-4708-94b4-473ebcbcb778",
   "metadata": {
    "tags": []
   },
   "outputs": [
    {
     "data": {
      "text/plain": [
       "issuer\n",
       "MC      3863\n",
       "VISA    3645\n",
       "AMEX    1496\n",
       "DISC     996\n",
       "Name: count, dtype: int64"
      ]
     },
     "execution_count": 7,
     "metadata": {},
     "output_type": "execute_result"
    }
   ],
   "source": [
    "df.issuer.value_counts()"
   ]
  },
  {
   "cell_type": "code",
   "execution_count": 18,
   "id": "a63779cf-6fe5-476d-9f92-41a6de2af49f",
   "metadata": {
    "tags": []
   },
   "outputs": [
    {
     "data": {
      "text/plain": [
       "issuer\n",
       "MC      0.3863\n",
       "VISA    0.3645\n",
       "AMEX    0.1496\n",
       "DISC    0.0996\n",
       "Name: proportion, dtype: float64"
      ]
     },
     "execution_count": 18,
     "metadata": {},
     "output_type": "execute_result"
    }
   ],
   "source": [
    "df.issuer.value_counts(normalize=True)"
   ]
  },
  {
   "cell_type": "code",
   "execution_count": null,
   "id": "4458eba6-16c1-419a-b004-aa1357bb30fa",
   "metadata": {},
   "outputs": [],
   "source": []
  }
 ],
 "metadata": {
  "kernelspec": {
   "display_name": "Python 3 (ipykernel)",
   "language": "python",
   "name": "python3"
  },
  "language_info": {
   "codemirror_mode": {
    "name": "ipython",
    "version": 3
   },
   "file_extension": ".py",
   "mimetype": "text/x-python",
   "name": "python",
   "nbconvert_exporter": "python",
   "pygments_lexer": "ipython3",
   "version": "3.11.7"
  }
 },
 "nbformat": 4,
 "nbformat_minor": 5
}
